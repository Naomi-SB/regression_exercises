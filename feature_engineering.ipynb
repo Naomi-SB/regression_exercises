{
 "cells": [
  {
   "cell_type": "code",
   "execution_count": 1,
   "id": "ad2eb7e5",
   "metadata": {},
   "outputs": [],
   "source": [
    "import pandas as pd\n",
    "import numpy as np\n",
    "import math\n",
    "import wrangle\n",
    "from env import get_db_url\n",
    "import seaborn as sns\n",
    "from pydataset import data\n",
    "\n",
    "#new for this lesson\n",
    "from sklearn.feature_selection import SelectKBest, RFE, f_regression, SequentialFeatureSelector\n",
    "from sklearn.linear_model import LinearRegression"
   ]
  },
  {
   "cell_type": "code",
   "execution_count": 2,
   "id": "e8d57123",
   "metadata": {},
   "outputs": [],
   "source": [
    "df = sns.load_dataset('tips')"
   ]
  },
  {
   "cell_type": "code",
   "execution_count": 3,
   "id": "b2fcd448",
   "metadata": {},
   "outputs": [
    {
     "data": {
      "text/html": [
       "<div>\n",
       "<style scoped>\n",
       "    .dataframe tbody tr th:only-of-type {\n",
       "        vertical-align: middle;\n",
       "    }\n",
       "\n",
       "    .dataframe tbody tr th {\n",
       "        vertical-align: top;\n",
       "    }\n",
       "\n",
       "    .dataframe thead th {\n",
       "        text-align: right;\n",
       "    }\n",
       "</style>\n",
       "<table border=\"1\" class=\"dataframe\">\n",
       "  <thead>\n",
       "    <tr style=\"text-align: right;\">\n",
       "      <th></th>\n",
       "      <th>total_bill</th>\n",
       "      <th>tip</th>\n",
       "      <th>sex</th>\n",
       "      <th>smoker</th>\n",
       "      <th>day</th>\n",
       "      <th>time</th>\n",
       "      <th>size</th>\n",
       "    </tr>\n",
       "  </thead>\n",
       "  <tbody>\n",
       "    <tr>\n",
       "      <th>0</th>\n",
       "      <td>16.99</td>\n",
       "      <td>1.01</td>\n",
       "      <td>Female</td>\n",
       "      <td>No</td>\n",
       "      <td>Sun</td>\n",
       "      <td>Dinner</td>\n",
       "      <td>2</td>\n",
       "    </tr>\n",
       "    <tr>\n",
       "      <th>1</th>\n",
       "      <td>10.34</td>\n",
       "      <td>1.66</td>\n",
       "      <td>Male</td>\n",
       "      <td>No</td>\n",
       "      <td>Sun</td>\n",
       "      <td>Dinner</td>\n",
       "      <td>3</td>\n",
       "    </tr>\n",
       "    <tr>\n",
       "      <th>2</th>\n",
       "      <td>21.01</td>\n",
       "      <td>3.50</td>\n",
       "      <td>Male</td>\n",
       "      <td>No</td>\n",
       "      <td>Sun</td>\n",
       "      <td>Dinner</td>\n",
       "      <td>3</td>\n",
       "    </tr>\n",
       "    <tr>\n",
       "      <th>3</th>\n",
       "      <td>23.68</td>\n",
       "      <td>3.31</td>\n",
       "      <td>Male</td>\n",
       "      <td>No</td>\n",
       "      <td>Sun</td>\n",
       "      <td>Dinner</td>\n",
       "      <td>2</td>\n",
       "    </tr>\n",
       "    <tr>\n",
       "      <th>4</th>\n",
       "      <td>24.59</td>\n",
       "      <td>3.61</td>\n",
       "      <td>Female</td>\n",
       "      <td>No</td>\n",
       "      <td>Sun</td>\n",
       "      <td>Dinner</td>\n",
       "      <td>4</td>\n",
       "    </tr>\n",
       "  </tbody>\n",
       "</table>\n",
       "</div>"
      ],
      "text/plain": [
       "   total_bill   tip     sex smoker  day    time  size\n",
       "0       16.99  1.01  Female     No  Sun  Dinner     2\n",
       "1       10.34  1.66    Male     No  Sun  Dinner     3\n",
       "2       21.01  3.50    Male     No  Sun  Dinner     3\n",
       "3       23.68  3.31    Male     No  Sun  Dinner     2\n",
       "4       24.59  3.61  Female     No  Sun  Dinner     4"
      ]
     },
     "execution_count": 3,
     "metadata": {},
     "output_type": "execute_result"
    }
   ],
   "source": [
    "df.head()"
   ]
  },
  {
   "cell_type": "markdown",
   "id": "d05cb309",
   "metadata": {},
   "source": [
    "# With the tips dataset:\n"
   ]
  },
  {
   "cell_type": "markdown",
   "id": "b605bc7c",
   "metadata": {},
   "source": [
    "- Create a column named price_per_person. This should be the total bill divided by the party size.\n",
    "- Before using any of the methods discussed in the lesson, which features do you think would be most important for predicting the tip amount?\n",
    "- Use select k best to select the top 2 features for predicting tip amount. What are they?\n",
    "- Use recursive feature elimination to select the top 2 features for tip amount. What are they?\n",
    "- Why do you think select k best and recursive feature elimination might give different answers for the top features? Does this change as you change the number of features you are selecting?"
   ]
  },
  {
   "cell_type": "markdown",
   "id": "6c5070ab",
   "metadata": {},
   "source": [
    "## a) Create a column named price_per_person. This should be total bill divided by the part size."
   ]
  },
  {
   "cell_type": "code",
   "execution_count": 4,
   "id": "8c47f260",
   "metadata": {},
   "outputs": [],
   "source": [
    "df.rename(columns={'size': 'party_size'}, inplace = True)\n"
   ]
  },
  {
   "cell_type": "code",
   "execution_count": 5,
   "id": "4ad145a0",
   "metadata": {},
   "outputs": [],
   "source": [
    "df['price_per_person'] = (df.total_bill/df.party_size).round()"
   ]
  },
  {
   "cell_type": "code",
   "execution_count": 6,
   "id": "bd393e81",
   "metadata": {},
   "outputs": [
    {
     "data": {
      "text/html": [
       "<div>\n",
       "<style scoped>\n",
       "    .dataframe tbody tr th:only-of-type {\n",
       "        vertical-align: middle;\n",
       "    }\n",
       "\n",
       "    .dataframe tbody tr th {\n",
       "        vertical-align: top;\n",
       "    }\n",
       "\n",
       "    .dataframe thead th {\n",
       "        text-align: right;\n",
       "    }\n",
       "</style>\n",
       "<table border=\"1\" class=\"dataframe\">\n",
       "  <thead>\n",
       "    <tr style=\"text-align: right;\">\n",
       "      <th></th>\n",
       "      <th>total_bill</th>\n",
       "      <th>tip</th>\n",
       "      <th>sex</th>\n",
       "      <th>smoker</th>\n",
       "      <th>day</th>\n",
       "      <th>time</th>\n",
       "      <th>party_size</th>\n",
       "      <th>price_per_person</th>\n",
       "    </tr>\n",
       "  </thead>\n",
       "  <tbody>\n",
       "    <tr>\n",
       "      <th>0</th>\n",
       "      <td>16.99</td>\n",
       "      <td>1.01</td>\n",
       "      <td>Female</td>\n",
       "      <td>No</td>\n",
       "      <td>Sun</td>\n",
       "      <td>Dinner</td>\n",
       "      <td>2</td>\n",
       "      <td>8.0</td>\n",
       "    </tr>\n",
       "    <tr>\n",
       "      <th>1</th>\n",
       "      <td>10.34</td>\n",
       "      <td>1.66</td>\n",
       "      <td>Male</td>\n",
       "      <td>No</td>\n",
       "      <td>Sun</td>\n",
       "      <td>Dinner</td>\n",
       "      <td>3</td>\n",
       "      <td>3.0</td>\n",
       "    </tr>\n",
       "    <tr>\n",
       "      <th>2</th>\n",
       "      <td>21.01</td>\n",
       "      <td>3.50</td>\n",
       "      <td>Male</td>\n",
       "      <td>No</td>\n",
       "      <td>Sun</td>\n",
       "      <td>Dinner</td>\n",
       "      <td>3</td>\n",
       "      <td>7.0</td>\n",
       "    </tr>\n",
       "    <tr>\n",
       "      <th>3</th>\n",
       "      <td>23.68</td>\n",
       "      <td>3.31</td>\n",
       "      <td>Male</td>\n",
       "      <td>No</td>\n",
       "      <td>Sun</td>\n",
       "      <td>Dinner</td>\n",
       "      <td>2</td>\n",
       "      <td>12.0</td>\n",
       "    </tr>\n",
       "    <tr>\n",
       "      <th>4</th>\n",
       "      <td>24.59</td>\n",
       "      <td>3.61</td>\n",
       "      <td>Female</td>\n",
       "      <td>No</td>\n",
       "      <td>Sun</td>\n",
       "      <td>Dinner</td>\n",
       "      <td>4</td>\n",
       "      <td>6.0</td>\n",
       "    </tr>\n",
       "  </tbody>\n",
       "</table>\n",
       "</div>"
      ],
      "text/plain": [
       "   total_bill   tip     sex smoker  day    time  party_size  price_per_person\n",
       "0       16.99  1.01  Female     No  Sun  Dinner           2               8.0\n",
       "1       10.34  1.66    Male     No  Sun  Dinner           3               3.0\n",
       "2       21.01  3.50    Male     No  Sun  Dinner           3               7.0\n",
       "3       23.68  3.31    Male     No  Sun  Dinner           2              12.0\n",
       "4       24.59  3.61  Female     No  Sun  Dinner           4               6.0"
      ]
     },
     "execution_count": 6,
     "metadata": {},
     "output_type": "execute_result"
    }
   ],
   "source": [
    "df.head()"
   ]
  },
  {
   "cell_type": "code",
   "execution_count": 7,
   "id": "3a305aae",
   "metadata": {},
   "outputs": [
    {
     "name": "stdout",
     "output_type": "stream",
     "text": [
      "<class 'pandas.core.frame.DataFrame'>\n",
      "RangeIndex: 244 entries, 0 to 243\n",
      "Data columns (total 8 columns):\n",
      " #   Column            Non-Null Count  Dtype   \n",
      "---  ------            --------------  -----   \n",
      " 0   total_bill        244 non-null    float64 \n",
      " 1   tip               244 non-null    float64 \n",
      " 2   sex               244 non-null    category\n",
      " 3   smoker            244 non-null    category\n",
      " 4   day               244 non-null    category\n",
      " 5   time              244 non-null    category\n",
      " 6   party_size        244 non-null    int64   \n",
      " 7   price_per_person  244 non-null    float64 \n",
      "dtypes: category(4), float64(3), int64(1)\n",
      "memory usage: 9.3 KB\n"
     ]
    }
   ],
   "source": [
    "df.info()"
   ]
  },
  {
   "cell_type": "markdown",
   "id": "1326ad59",
   "metadata": {},
   "source": [
    "## b) Before using any of the methods discussed in the lesson, which features do you think would be most important for predicting the tip amount?"
   ]
  },
  {
   "cell_type": "markdown",
   "id": "c9e2ed1a",
   "metadata": {},
   "source": [
    "- i think that total bill, day, and time will be the best indicators of tip amount"
   ]
  },
  {
   "cell_type": "markdown",
   "id": "d04664a9",
   "metadata": {},
   "source": [
    "### split data"
   ]
  },
  {
   "cell_type": "code",
   "execution_count": 8,
   "id": "0ceed4f4",
   "metadata": {},
   "outputs": [],
   "source": [
    "train, validate, test = wrangle.split_data(df)"
   ]
  },
  {
   "cell_type": "code",
   "execution_count": 9,
   "id": "9d6ae625",
   "metadata": {},
   "outputs": [
    {
     "data": {
      "text/plain": [
       "(136, 8)"
      ]
     },
     "execution_count": 9,
     "metadata": {},
     "output_type": "execute_result"
    }
   ],
   "source": [
    "train.shape"
   ]
  },
  {
   "cell_type": "code",
   "execution_count": 10,
   "id": "88f4e5ae",
   "metadata": {},
   "outputs": [
    {
     "data": {
      "text/plain": [
       "(244, 8)"
      ]
     },
     "execution_count": 10,
     "metadata": {},
     "output_type": "execute_result"
    }
   ],
   "source": [
    "df.shape"
   ]
  },
  {
   "cell_type": "markdown",
   "id": "0b894319",
   "metadata": {},
   "source": [
    "## c) Use select k best to select the top 2 features for predicting tip amount. What are they?"
   ]
  },
  {
   "cell_type": "code",
   "execution_count": 11,
   "id": "1774705c",
   "metadata": {},
   "outputs": [],
   "source": [
    "# create dummies to turn strings into numerics"
   ]
  },
  {
   "cell_type": "code",
   "execution_count": 12,
   "id": "6ae9f2b2",
   "metadata": {},
   "outputs": [],
   "source": [
    "dummy_df = pd.get_dummies(train[['sex', 'smoker', 'day', 'time']],dummy_na = False, drop_first=False)"
   ]
  },
  {
   "cell_type": "code",
   "execution_count": 13,
   "id": "05e030aa",
   "metadata": {},
   "outputs": [],
   "source": [
    "train = pd.concat([train, dummy_df], axis = 1)"
   ]
  },
  {
   "cell_type": "code",
   "execution_count": 14,
   "id": "5fdc6b17",
   "metadata": {},
   "outputs": [],
   "source": [
    "train.drop(columns = ['party_size','sex', 'smoker', 'day', 'time'], inplace = True)"
   ]
  },
  {
   "cell_type": "code",
   "execution_count": 15,
   "id": "70ec9c68",
   "metadata": {},
   "outputs": [
    {
     "data": {
      "text/html": [
       "<div>\n",
       "<style scoped>\n",
       "    .dataframe tbody tr th:only-of-type {\n",
       "        vertical-align: middle;\n",
       "    }\n",
       "\n",
       "    .dataframe tbody tr th {\n",
       "        vertical-align: top;\n",
       "    }\n",
       "\n",
       "    .dataframe thead th {\n",
       "        text-align: right;\n",
       "    }\n",
       "</style>\n",
       "<table border=\"1\" class=\"dataframe\">\n",
       "  <thead>\n",
       "    <tr style=\"text-align: right;\">\n",
       "      <th></th>\n",
       "      <th>total_bill</th>\n",
       "      <th>tip</th>\n",
       "      <th>price_per_person</th>\n",
       "      <th>sex_Male</th>\n",
       "      <th>sex_Female</th>\n",
       "      <th>smoker_Yes</th>\n",
       "      <th>smoker_No</th>\n",
       "      <th>day_Thur</th>\n",
       "      <th>day_Fri</th>\n",
       "      <th>day_Sat</th>\n",
       "      <th>day_Sun</th>\n",
       "      <th>time_Lunch</th>\n",
       "      <th>time_Dinner</th>\n",
       "    </tr>\n",
       "  </thead>\n",
       "  <tbody>\n",
       "    <tr>\n",
       "      <th>54</th>\n",
       "      <td>25.56</td>\n",
       "      <td>4.34</td>\n",
       "      <td>6.0</td>\n",
       "      <td>1</td>\n",
       "      <td>0</td>\n",
       "      <td>0</td>\n",
       "      <td>1</td>\n",
       "      <td>0</td>\n",
       "      <td>0</td>\n",
       "      <td>0</td>\n",
       "      <td>1</td>\n",
       "      <td>0</td>\n",
       "      <td>1</td>\n",
       "    </tr>\n",
       "    <tr>\n",
       "      <th>158</th>\n",
       "      <td>13.39</td>\n",
       "      <td>2.61</td>\n",
       "      <td>7.0</td>\n",
       "      <td>0</td>\n",
       "      <td>1</td>\n",
       "      <td>0</td>\n",
       "      <td>1</td>\n",
       "      <td>0</td>\n",
       "      <td>0</td>\n",
       "      <td>0</td>\n",
       "      <td>1</td>\n",
       "      <td>0</td>\n",
       "      <td>1</td>\n",
       "    </tr>\n",
       "    <tr>\n",
       "      <th>151</th>\n",
       "      <td>13.13</td>\n",
       "      <td>2.00</td>\n",
       "      <td>7.0</td>\n",
       "      <td>1</td>\n",
       "      <td>0</td>\n",
       "      <td>0</td>\n",
       "      <td>1</td>\n",
       "      <td>0</td>\n",
       "      <td>0</td>\n",
       "      <td>0</td>\n",
       "      <td>1</td>\n",
       "      <td>0</td>\n",
       "      <td>1</td>\n",
       "    </tr>\n",
       "    <tr>\n",
       "      <th>230</th>\n",
       "      <td>24.01</td>\n",
       "      <td>2.00</td>\n",
       "      <td>6.0</td>\n",
       "      <td>1</td>\n",
       "      <td>0</td>\n",
       "      <td>1</td>\n",
       "      <td>0</td>\n",
       "      <td>0</td>\n",
       "      <td>0</td>\n",
       "      <td>1</td>\n",
       "      <td>0</td>\n",
       "      <td>0</td>\n",
       "      <td>1</td>\n",
       "    </tr>\n",
       "    <tr>\n",
       "      <th>68</th>\n",
       "      <td>20.23</td>\n",
       "      <td>2.01</td>\n",
       "      <td>10.0</td>\n",
       "      <td>1</td>\n",
       "      <td>0</td>\n",
       "      <td>0</td>\n",
       "      <td>1</td>\n",
       "      <td>0</td>\n",
       "      <td>0</td>\n",
       "      <td>1</td>\n",
       "      <td>0</td>\n",
       "      <td>0</td>\n",
       "      <td>1</td>\n",
       "    </tr>\n",
       "  </tbody>\n",
       "</table>\n",
       "</div>"
      ],
      "text/plain": [
       "     total_bill   tip  price_per_person  sex_Male  sex_Female  smoker_Yes  \\\n",
       "54        25.56  4.34               6.0         1           0           0   \n",
       "158       13.39  2.61               7.0         0           1           0   \n",
       "151       13.13  2.00               7.0         1           0           0   \n",
       "230       24.01  2.00               6.0         1           0           1   \n",
       "68        20.23  2.01              10.0         1           0           0   \n",
       "\n",
       "     smoker_No  day_Thur  day_Fri  day_Sat  day_Sun  time_Lunch  time_Dinner  \n",
       "54           1         0        0        0        1           0            1  \n",
       "158          1         0        0        0        1           0            1  \n",
       "151          1         0        0        0        1           0            1  \n",
       "230          0         0        0        1        0           0            1  \n",
       "68           1         0        0        1        0           0            1  "
      ]
     },
     "execution_count": 15,
     "metadata": {},
     "output_type": "execute_result"
    }
   ],
   "source": [
    "train.head()"
   ]
  },
  {
   "cell_type": "code",
   "execution_count": 16,
   "id": "10b70f93",
   "metadata": {},
   "outputs": [],
   "source": [
    "X_train, y_train = train[['total_bill', \n",
    "                      'price_per_person', \n",
    "                      'sex_Male', \n",
    "                      'sex_Female', \n",
    "                      'smoker_Yes', \n",
    "                      'smoker_No', \n",
    "                      'day_Thur', \n",
    "                      'day_Fri', \n",
    "                      'day_Sat', \n",
    "                      'day_Sun', \n",
    "                      'time_Lunch', \n",
    "                      'time_Dinner']], train.tip "
   ]
  },
  {
   "cell_type": "code",
   "execution_count": 17,
   "id": "f06b8317",
   "metadata": {},
   "outputs": [
    {
     "data": {
      "text/plain": [
       "array([ True,  True, False, False, False, False, False, False, False,\n",
       "       False, False, False])"
      ]
     },
     "execution_count": 17,
     "metadata": {},
     "output_type": "execute_result"
    }
   ],
   "source": [
    "#make the thing\n",
    "f_selector= SelectKBest(f_regression, k = 2)\n",
    "#fit the thing\n",
    "kbest = f_selector.fit(X_train, y_train)\n",
    "\n",
    "kbest.get_support()"
   ]
  },
  {
   "cell_type": "code",
   "execution_count": 18,
   "id": "00730f2a",
   "metadata": {},
   "outputs": [
    {
     "data": {
      "text/plain": [
       "array([3.86477551e-22, 3.49104293e-06, 6.76036108e-01, 6.76036108e-01,\n",
       "       4.30799695e-01, 4.30799695e-01, 1.06802664e-01, 3.52782823e-01,\n",
       "       4.75670572e-01, 1.64277304e-01, 5.32839785e-02, 5.32839785e-02])"
      ]
     },
     "execution_count": 18,
     "metadata": {},
     "output_type": "execute_result"
    }
   ],
   "source": [
    "#pre-renaming\n",
    "kbest.scores_\n",
    "\n",
    "kbest.pvalues_"
   ]
  },
  {
   "cell_type": "code",
   "execution_count": 19,
   "id": "624f196b",
   "metadata": {},
   "outputs": [],
   "source": [
    "kbest_support_mask = kbest.get_support()"
   ]
  },
  {
   "cell_type": "code",
   "execution_count": 20,
   "id": "195703eb",
   "metadata": {},
   "outputs": [
    {
     "name": "stdout",
     "output_type": "stream",
     "text": [
      "['total_bill', 'price_per_person']\n"
     ]
    }
   ],
   "source": [
    "kbest_feature = f_feature = X_train.loc[:,kbest_support_mask].columns.tolist()\n",
    "\n",
    "print(kbest_feature)"
   ]
  },
  {
   "cell_type": "code",
   "execution_count": 21,
   "id": "ce33544c",
   "metadata": {},
   "outputs": [],
   "source": [
    "#post\n",
    "kbest_results = pd.DataFrame(\n",
    "    dict(p=kbest.pvalues_, f=kbest.scores_),\n",
    "                             index = X_train.columns)"
   ]
  },
  {
   "cell_type": "code",
   "execution_count": 22,
   "id": "2a41dd36",
   "metadata": {},
   "outputs": [
    {
     "data": {
      "text/html": [
       "<div>\n",
       "<style scoped>\n",
       "    .dataframe tbody tr th:only-of-type {\n",
       "        vertical-align: middle;\n",
       "    }\n",
       "\n",
       "    .dataframe tbody tr th {\n",
       "        vertical-align: top;\n",
       "    }\n",
       "\n",
       "    .dataframe thead th {\n",
       "        text-align: right;\n",
       "    }\n",
       "</style>\n",
       "<table border=\"1\" class=\"dataframe\">\n",
       "  <thead>\n",
       "    <tr style=\"text-align: right;\">\n",
       "      <th></th>\n",
       "      <th>p</th>\n",
       "      <th>f</th>\n",
       "    </tr>\n",
       "  </thead>\n",
       "  <tbody>\n",
       "    <tr>\n",
       "      <th>total_bill</th>\n",
       "      <td>3.864776e-22</td>\n",
       "      <td>136.100652</td>\n",
       "    </tr>\n",
       "    <tr>\n",
       "      <th>price_per_person</th>\n",
       "      <td>3.491043e-06</td>\n",
       "      <td>23.444393</td>\n",
       "    </tr>\n",
       "    <tr>\n",
       "      <th>sex_Male</th>\n",
       "      <td>6.760361e-01</td>\n",
       "      <td>0.175390</td>\n",
       "    </tr>\n",
       "    <tr>\n",
       "      <th>sex_Female</th>\n",
       "      <td>6.760361e-01</td>\n",
       "      <td>0.175390</td>\n",
       "    </tr>\n",
       "    <tr>\n",
       "      <th>smoker_Yes</th>\n",
       "      <td>4.307997e-01</td>\n",
       "      <td>0.624436</td>\n",
       "    </tr>\n",
       "    <tr>\n",
       "      <th>smoker_No</th>\n",
       "      <td>4.307997e-01</td>\n",
       "      <td>0.624436</td>\n",
       "    </tr>\n",
       "    <tr>\n",
       "      <th>day_Thur</th>\n",
       "      <td>1.068027e-01</td>\n",
       "      <td>2.636209</td>\n",
       "    </tr>\n",
       "    <tr>\n",
       "      <th>day_Fri</th>\n",
       "      <td>3.527828e-01</td>\n",
       "      <td>0.869457</td>\n",
       "    </tr>\n",
       "    <tr>\n",
       "      <th>day_Sat</th>\n",
       "      <td>4.756706e-01</td>\n",
       "      <td>0.511648</td>\n",
       "    </tr>\n",
       "    <tr>\n",
       "      <th>day_Sun</th>\n",
       "      <td>1.642773e-01</td>\n",
       "      <td>1.955763</td>\n",
       "    </tr>\n",
       "    <tr>\n",
       "      <th>time_Lunch</th>\n",
       "      <td>5.328398e-02</td>\n",
       "      <td>3.801854</td>\n",
       "    </tr>\n",
       "    <tr>\n",
       "      <th>time_Dinner</th>\n",
       "      <td>5.328398e-02</td>\n",
       "      <td>3.801854</td>\n",
       "    </tr>\n",
       "  </tbody>\n",
       "</table>\n",
       "</div>"
      ],
      "text/plain": [
       "                             p           f\n",
       "total_bill        3.864776e-22  136.100652\n",
       "price_per_person  3.491043e-06   23.444393\n",
       "sex_Male          6.760361e-01    0.175390\n",
       "sex_Female        6.760361e-01    0.175390\n",
       "smoker_Yes        4.307997e-01    0.624436\n",
       "smoker_No         4.307997e-01    0.624436\n",
       "day_Thur          1.068027e-01    2.636209\n",
       "day_Fri           3.527828e-01    0.869457\n",
       "day_Sat           4.756706e-01    0.511648\n",
       "day_Sun           1.642773e-01    1.955763\n",
       "time_Lunch        5.328398e-02    3.801854\n",
       "time_Dinner       5.328398e-02    3.801854"
      ]
     },
     "execution_count": 22,
     "metadata": {},
     "output_type": "execute_result"
    }
   ],
   "source": [
    "kbest_results"
   ]
  },
  {
   "cell_type": "code",
   "execution_count": 23,
   "id": "96c7f8a7",
   "metadata": {},
   "outputs": [
    {
     "data": {
      "text/plain": [
       "Index(['total_bill', 'price_per_person'], dtype='object')"
      ]
     },
     "execution_count": 23,
     "metadata": {},
     "output_type": "execute_result"
    }
   ],
   "source": [
    "X_train.columns[kbest.get_support()]"
   ]
  },
  {
   "cell_type": "code",
   "execution_count": 24,
   "id": "445bf95f",
   "metadata": {},
   "outputs": [
    {
     "data": {
      "text/html": [
       "<div>\n",
       "<style scoped>\n",
       "    .dataframe tbody tr th:only-of-type {\n",
       "        vertical-align: middle;\n",
       "    }\n",
       "\n",
       "    .dataframe tbody tr th {\n",
       "        vertical-align: top;\n",
       "    }\n",
       "\n",
       "    .dataframe thead th {\n",
       "        text-align: right;\n",
       "    }\n",
       "</style>\n",
       "<table border=\"1\" class=\"dataframe\">\n",
       "  <thead>\n",
       "    <tr style=\"text-align: right;\">\n",
       "      <th></th>\n",
       "      <th>p</th>\n",
       "      <th>f</th>\n",
       "    </tr>\n",
       "  </thead>\n",
       "  <tbody>\n",
       "    <tr>\n",
       "      <th>total_bill</th>\n",
       "      <td>3.864776e-22</td>\n",
       "      <td>136.100652</td>\n",
       "    </tr>\n",
       "    <tr>\n",
       "      <th>price_per_person</th>\n",
       "      <td>3.491043e-06</td>\n",
       "      <td>23.444393</td>\n",
       "    </tr>\n",
       "    <tr>\n",
       "      <th>sex_Male</th>\n",
       "      <td>6.760361e-01</td>\n",
       "      <td>0.175390</td>\n",
       "    </tr>\n",
       "    <tr>\n",
       "      <th>sex_Female</th>\n",
       "      <td>6.760361e-01</td>\n",
       "      <td>0.175390</td>\n",
       "    </tr>\n",
       "    <tr>\n",
       "      <th>smoker_Yes</th>\n",
       "      <td>4.307997e-01</td>\n",
       "      <td>0.624436</td>\n",
       "    </tr>\n",
       "    <tr>\n",
       "      <th>smoker_No</th>\n",
       "      <td>4.307997e-01</td>\n",
       "      <td>0.624436</td>\n",
       "    </tr>\n",
       "    <tr>\n",
       "      <th>day_Thur</th>\n",
       "      <td>1.068027e-01</td>\n",
       "      <td>2.636209</td>\n",
       "    </tr>\n",
       "    <tr>\n",
       "      <th>day_Fri</th>\n",
       "      <td>3.527828e-01</td>\n",
       "      <td>0.869457</td>\n",
       "    </tr>\n",
       "    <tr>\n",
       "      <th>day_Sat</th>\n",
       "      <td>4.756706e-01</td>\n",
       "      <td>0.511648</td>\n",
       "    </tr>\n",
       "    <tr>\n",
       "      <th>day_Sun</th>\n",
       "      <td>1.642773e-01</td>\n",
       "      <td>1.955763</td>\n",
       "    </tr>\n",
       "    <tr>\n",
       "      <th>time_Lunch</th>\n",
       "      <td>5.328398e-02</td>\n",
       "      <td>3.801854</td>\n",
       "    </tr>\n",
       "    <tr>\n",
       "      <th>time_Dinner</th>\n",
       "      <td>5.328398e-02</td>\n",
       "      <td>3.801854</td>\n",
       "    </tr>\n",
       "  </tbody>\n",
       "</table>\n",
       "</div>"
      ],
      "text/plain": [
       "                             p           f\n",
       "total_bill        3.864776e-22  136.100652\n",
       "price_per_person  3.491043e-06   23.444393\n",
       "sex_Male          6.760361e-01    0.175390\n",
       "sex_Female        6.760361e-01    0.175390\n",
       "smoker_Yes        4.307997e-01    0.624436\n",
       "smoker_No         4.307997e-01    0.624436\n",
       "day_Thur          1.068027e-01    2.636209\n",
       "day_Fri           3.527828e-01    0.869457\n",
       "day_Sat           4.756706e-01    0.511648\n",
       "day_Sun           1.642773e-01    1.955763\n",
       "time_Lunch        5.328398e-02    3.801854\n",
       "time_Dinner       5.328398e-02    3.801854"
      ]
     },
     "execution_count": 24,
     "metadata": {},
     "output_type": "execute_result"
    }
   ],
   "source": [
    "kbest_results#sort_values#(ascending = False)"
   ]
  },
  {
   "cell_type": "code",
   "execution_count": 25,
   "id": "b2244838",
   "metadata": {},
   "outputs": [],
   "source": [
    "kbest_mask=kbest.get_support()"
   ]
  },
  {
   "cell_type": "markdown",
   "id": "95e3c274",
   "metadata": {},
   "source": [
    "## d) Use recursive feature elimination to select the top 2 features for tip amount. What are they?\n"
   ]
  },
  {
   "cell_type": "code",
   "execution_count": 26,
   "id": "103ddf03",
   "metadata": {},
   "outputs": [],
   "source": [
    "model = LinearRegression()"
   ]
  },
  {
   "cell_type": "code",
   "execution_count": 27,
   "id": "b7c1340d",
   "metadata": {},
   "outputs": [
    {
     "data": {
      "text/plain": [
       "RFE(estimator=LinearRegression(), n_features_to_select=2)"
      ]
     },
     "execution_count": 27,
     "metadata": {},
     "output_type": "execute_result"
    }
   ],
   "source": [
    "# make thing\n",
    "rfe = RFE(model, n_features_to_select=2)\n",
    "# fit thing\n",
    "rfe.fit(X_train, y_train)"
   ]
  },
  {
   "cell_type": "code",
   "execution_count": 28,
   "id": "11a08065",
   "metadata": {},
   "outputs": [
    {
     "data": {
      "text/plain": [
       "array([ 6,  8,  5,  7,  9, 10,  3, 11,  1,  1,  4,  2])"
      ]
     },
     "execution_count": 28,
     "metadata": {},
     "output_type": "execute_result"
    }
   ],
   "source": [
    "rfe.ranking_"
   ]
  },
  {
   "cell_type": "code",
   "execution_count": 29,
   "id": "7aa6c490",
   "metadata": {},
   "outputs": [],
   "source": [
    "RFE_df =pd.DataFrame(\n",
    "{\n",
    "    'rfe_ranking': rfe.ranking_\n",
    "}, index = X_train.columns)"
   ]
  },
  {
   "cell_type": "code",
   "execution_count": 30,
   "id": "e31e5eba",
   "metadata": {
    "scrolled": true
   },
   "outputs": [
    {
     "data": {
      "text/html": [
       "<div>\n",
       "<style scoped>\n",
       "    .dataframe tbody tr th:only-of-type {\n",
       "        vertical-align: middle;\n",
       "    }\n",
       "\n",
       "    .dataframe tbody tr th {\n",
       "        vertical-align: top;\n",
       "    }\n",
       "\n",
       "    .dataframe thead th {\n",
       "        text-align: right;\n",
       "    }\n",
       "</style>\n",
       "<table border=\"1\" class=\"dataframe\">\n",
       "  <thead>\n",
       "    <tr style=\"text-align: right;\">\n",
       "      <th></th>\n",
       "      <th>rfe_ranking</th>\n",
       "    </tr>\n",
       "  </thead>\n",
       "  <tbody>\n",
       "    <tr>\n",
       "      <th>total_bill</th>\n",
       "      <td>6.0</td>\n",
       "    </tr>\n",
       "    <tr>\n",
       "      <th>price_per_person</th>\n",
       "      <td>4.0</td>\n",
       "    </tr>\n",
       "    <tr>\n",
       "      <th>sex_Male</th>\n",
       "      <td>7.0</td>\n",
       "    </tr>\n",
       "    <tr>\n",
       "      <th>sex_Female</th>\n",
       "      <td>5.0</td>\n",
       "    </tr>\n",
       "    <tr>\n",
       "      <th>smoker_Yes</th>\n",
       "      <td>3.0</td>\n",
       "    </tr>\n",
       "    <tr>\n",
       "      <th>smoker_No</th>\n",
       "      <td>2.0</td>\n",
       "    </tr>\n",
       "    <tr>\n",
       "      <th>day_Thur</th>\n",
       "      <td>9.0</td>\n",
       "    </tr>\n",
       "    <tr>\n",
       "      <th>day_Fri</th>\n",
       "      <td>1.0</td>\n",
       "    </tr>\n",
       "    <tr>\n",
       "      <th>day_Sat</th>\n",
       "      <td>11.5</td>\n",
       "    </tr>\n",
       "    <tr>\n",
       "      <th>day_Sun</th>\n",
       "      <td>11.5</td>\n",
       "    </tr>\n",
       "    <tr>\n",
       "      <th>time_Lunch</th>\n",
       "      <td>8.0</td>\n",
       "    </tr>\n",
       "    <tr>\n",
       "      <th>time_Dinner</th>\n",
       "      <td>10.0</td>\n",
       "    </tr>\n",
       "  </tbody>\n",
       "</table>\n",
       "</div>"
      ],
      "text/plain": [
       "                  rfe_ranking\n",
       "total_bill                6.0\n",
       "price_per_person          4.0\n",
       "sex_Male                  7.0\n",
       "sex_Female                5.0\n",
       "smoker_Yes                3.0\n",
       "smoker_No                 2.0\n",
       "day_Thur                  9.0\n",
       "day_Fri                   1.0\n",
       "day_Sat                  11.5\n",
       "day_Sun                  11.5\n",
       "time_Lunch                8.0\n",
       "time_Dinner              10.0"
      ]
     },
     "execution_count": 30,
     "metadata": {},
     "output_type": "execute_result"
    }
   ],
   "source": [
    "RFE_df.rank(ascending=False)"
   ]
  },
  {
   "cell_type": "code",
   "execution_count": 31,
   "id": "f1948f2d",
   "metadata": {},
   "outputs": [
    {
     "data": {
      "text/plain": [
       "array([False, False, False, False, False, False, False, False,  True,\n",
       "        True, False, False])"
      ]
     },
     "execution_count": 31,
     "metadata": {},
     "output_type": "execute_result"
    }
   ],
   "source": [
    "rfe.get_support()"
   ]
  },
  {
   "cell_type": "code",
   "execution_count": 32,
   "id": "8606c674",
   "metadata": {},
   "outputs": [
    {
     "data": {
      "text/plain": [
       "array([ True,  True, False, False, False, False, False, False, False,\n",
       "       False, False, False])"
      ]
     },
     "execution_count": 32,
     "metadata": {},
     "output_type": "execute_result"
    }
   ],
   "source": [
    "kbest_mask"
   ]
  },
  {
   "cell_type": "markdown",
   "id": "8eefa691",
   "metadata": {},
   "source": [
    "## ELECTIVE BONUS: SFS"
   ]
  },
  {
   "cell_type": "code",
   "execution_count": 33,
   "id": "9419ecf1",
   "metadata": {},
   "outputs": [
    {
     "data": {
      "text/plain": [
       "LinearRegression()"
      ]
     },
     "execution_count": 33,
     "metadata": {},
     "output_type": "execute_result"
    }
   ],
   "source": [
    "model"
   ]
  },
  {
   "cell_type": "code",
   "execution_count": 34,
   "id": "31570864",
   "metadata": {},
   "outputs": [],
   "source": [
    "sfs = SequentialFeatureSelector(model, n_features_to_select=2)"
   ]
  },
  {
   "cell_type": "code",
   "execution_count": 35,
   "id": "cfbc38b2",
   "metadata": {},
   "outputs": [
    {
     "data": {
      "text/plain": [
       "SequentialFeatureSelector(estimator=LinearRegression(), n_features_to_select=2)"
      ]
     },
     "execution_count": 35,
     "metadata": {},
     "output_type": "execute_result"
    }
   ],
   "source": [
    "sfs.fit(X_train, y_train)"
   ]
  },
  {
   "cell_type": "code",
   "execution_count": 36,
   "id": "135979d5",
   "metadata": {},
   "outputs": [],
   "source": [
    "SFS = pd.DataFrame(\n",
    "sfs.transform(X_train),\n",
    "index = X_train.index,\n",
    "columns = X_train.columns[sfs.support_])"
   ]
  },
  {
   "cell_type": "code",
   "execution_count": 37,
   "id": "5581c086",
   "metadata": {},
   "outputs": [
    {
     "data": {
      "text/html": [
       "<div>\n",
       "<style scoped>\n",
       "    .dataframe tbody tr th:only-of-type {\n",
       "        vertical-align: middle;\n",
       "    }\n",
       "\n",
       "    .dataframe tbody tr th {\n",
       "        vertical-align: top;\n",
       "    }\n",
       "\n",
       "    .dataframe thead th {\n",
       "        text-align: right;\n",
       "    }\n",
       "</style>\n",
       "<table border=\"1\" class=\"dataframe\">\n",
       "  <thead>\n",
       "    <tr style=\"text-align: right;\">\n",
       "      <th></th>\n",
       "      <th>total_bill</th>\n",
       "      <th>smoker_Yes</th>\n",
       "    </tr>\n",
       "  </thead>\n",
       "  <tbody>\n",
       "    <tr>\n",
       "      <th>54</th>\n",
       "      <td>25.56</td>\n",
       "      <td>0.0</td>\n",
       "    </tr>\n",
       "    <tr>\n",
       "      <th>158</th>\n",
       "      <td>13.39</td>\n",
       "      <td>0.0</td>\n",
       "    </tr>\n",
       "    <tr>\n",
       "      <th>151</th>\n",
       "      <td>13.13</td>\n",
       "      <td>0.0</td>\n",
       "    </tr>\n",
       "    <tr>\n",
       "      <th>230</th>\n",
       "      <td>24.01</td>\n",
       "      <td>1.0</td>\n",
       "    </tr>\n",
       "    <tr>\n",
       "      <th>68</th>\n",
       "      <td>20.23</td>\n",
       "      <td>0.0</td>\n",
       "    </tr>\n",
       "  </tbody>\n",
       "</table>\n",
       "</div>"
      ],
      "text/plain": [
       "     total_bill  smoker_Yes\n",
       "54        25.56         0.0\n",
       "158       13.39         0.0\n",
       "151       13.13         0.0\n",
       "230       24.01         1.0\n",
       "68        20.23         0.0"
      ]
     },
     "execution_count": 37,
     "metadata": {},
     "output_type": "execute_result"
    }
   ],
   "source": [
    "SFS.head(5)"
   ]
  },
  {
   "cell_type": "markdown",
   "id": "6c8d217b",
   "metadata": {},
   "source": [
    "## e) Why do you think select k best and recursive feature elimination might give different answers for the top features? \n",
    "- Maybe because of how small the dataset is?\n",
    "\n",
    "\n",
    "## Does this change as you change the number of features you are selecting?\n",
    "- Not yet. I'll have to chase some rabbits to answer the question of \"how are the ranking orders related before I mess with additional features."
   ]
  },
  {
   "cell_type": "markdown",
   "id": "373738c6",
   "metadata": {},
   "source": [
    "# 2. Write select_kbest function "
   ]
  },
  {
   "cell_type": "code",
   "execution_count": 38,
   "id": "0d89e2ec",
   "metadata": {},
   "outputs": [],
   "source": [
    "def select_k_best_function(df, target, k):\n",
    "    ''' This function is my pride and joy. \n",
    "    Takes in a dataframe, a target variable, and the number of top attributes\n",
    "    and SO LONG AS ALL COLUMNS ARE NUMERIC\n",
    "    will return a dataframe '''\n",
    "    \n",
    "    \n",
    "    \n",
    "    \n",
    "    # define X_train and y_train:\n",
    "    y_train = df[target]\n",
    "    X_train = df.drop(columns=target)\n",
    "    \n",
    "    #make the thing\n",
    "    kbest= SelectKBest(f_regression, k = k)\n",
    "    \n",
    "    #fit the thing\n",
    "    _ = kbest.fit(X_train, y_train)\n",
    "    \n",
    "    # makes it pretty\n",
    "    kbest_results = pd.DataFrame(\n",
    "    dict(p=kbest.pvalues_, f=kbest.scores_),\n",
    "                             index = X_train.columns).sort_values('f').head(k)\n",
    "    \n",
    "    return kbest_results"
   ]
  },
  {
   "cell_type": "code",
   "execution_count": 39,
   "id": "0ad2e0b6",
   "metadata": {},
   "outputs": [],
   "source": [
    "swiss = data('swiss')"
   ]
  },
  {
   "cell_type": "code",
   "execution_count": 40,
   "id": "2e873bc2",
   "metadata": {},
   "outputs": [
    {
     "data": {
      "text/html": [
       "<div>\n",
       "<style scoped>\n",
       "    .dataframe tbody tr th:only-of-type {\n",
       "        vertical-align: middle;\n",
       "    }\n",
       "\n",
       "    .dataframe tbody tr th {\n",
       "        vertical-align: top;\n",
       "    }\n",
       "\n",
       "    .dataframe thead th {\n",
       "        text-align: right;\n",
       "    }\n",
       "</style>\n",
       "<table border=\"1\" class=\"dataframe\">\n",
       "  <thead>\n",
       "    <tr style=\"text-align: right;\">\n",
       "      <th></th>\n",
       "      <th>p</th>\n",
       "      <th>f</th>\n",
       "    </tr>\n",
       "  </thead>\n",
       "  <tbody>\n",
       "    <tr>\n",
       "      <th>Agriculture</th>\n",
       "      <td>0.014917</td>\n",
       "      <td>6.408884</td>\n",
       "    </tr>\n",
       "    <tr>\n",
       "      <th>Infant.Mortality</th>\n",
       "      <td>0.003585</td>\n",
       "      <td>9.447708</td>\n",
       "    </tr>\n",
       "    <tr>\n",
       "      <th>Catholic</th>\n",
       "      <td>0.001029</td>\n",
       "      <td>12.325096</td>\n",
       "    </tr>\n",
       "  </tbody>\n",
       "</table>\n",
       "</div>"
      ],
      "text/plain": [
       "                         p          f\n",
       "Agriculture       0.014917   6.408884\n",
       "Infant.Mortality  0.003585   9.447708\n",
       "Catholic          0.001029  12.325096"
      ]
     },
     "execution_count": 40,
     "metadata": {},
     "output_type": "execute_result"
    }
   ],
   "source": [
    "select_k_best_function(swiss, 'Fertility', 3)"
   ]
  },
  {
   "cell_type": "code",
   "execution_count": 41,
   "id": "47fa30e4",
   "metadata": {},
   "outputs": [
    {
     "data": {
      "text/html": [
       "<div>\n",
       "<style scoped>\n",
       "    .dataframe tbody tr th:only-of-type {\n",
       "        vertical-align: middle;\n",
       "    }\n",
       "\n",
       "    .dataframe tbody tr th {\n",
       "        vertical-align: top;\n",
       "    }\n",
       "\n",
       "    .dataframe thead th {\n",
       "        text-align: right;\n",
       "    }\n",
       "</style>\n",
       "<table border=\"1\" class=\"dataframe\">\n",
       "  <thead>\n",
       "    <tr style=\"text-align: right;\">\n",
       "      <th></th>\n",
       "      <th>p</th>\n",
       "      <th>f</th>\n",
       "    </tr>\n",
       "  </thead>\n",
       "  <tbody>\n",
       "    <tr>\n",
       "      <th>sex_Female</th>\n",
       "      <td>0.676036</td>\n",
       "      <td>0.17539</td>\n",
       "    </tr>\n",
       "    <tr>\n",
       "      <th>sex_Male</th>\n",
       "      <td>0.676036</td>\n",
       "      <td>0.17539</td>\n",
       "    </tr>\n",
       "  </tbody>\n",
       "</table>\n",
       "</div>"
      ],
      "text/plain": [
       "                   p        f\n",
       "sex_Female  0.676036  0.17539\n",
       "sex_Male    0.676036  0.17539"
      ]
     },
     "execution_count": 41,
     "metadata": {},
     "output_type": "execute_result"
    }
   ],
   "source": [
    "select_k_best_function(train, 'tip', 2)"
   ]
  },
  {
   "cell_type": "code",
   "execution_count": 42,
   "id": "14baa909",
   "metadata": {},
   "outputs": [
    {
     "data": {
      "text/html": [
       "<div>\n",
       "<style scoped>\n",
       "    .dataframe tbody tr th:only-of-type {\n",
       "        vertical-align: middle;\n",
       "    }\n",
       "\n",
       "    .dataframe tbody tr th {\n",
       "        vertical-align: top;\n",
       "    }\n",
       "\n",
       "    .dataframe thead th {\n",
       "        text-align: right;\n",
       "    }\n",
       "</style>\n",
       "<table border=\"1\" class=\"dataframe\">\n",
       "  <thead>\n",
       "    <tr style=\"text-align: right;\">\n",
       "      <th></th>\n",
       "      <th>total_bill</th>\n",
       "      <th>tip</th>\n",
       "      <th>price_per_person</th>\n",
       "      <th>sex_Male</th>\n",
       "      <th>sex_Female</th>\n",
       "      <th>smoker_Yes</th>\n",
       "      <th>smoker_No</th>\n",
       "      <th>day_Thur</th>\n",
       "      <th>day_Fri</th>\n",
       "      <th>day_Sat</th>\n",
       "      <th>day_Sun</th>\n",
       "      <th>time_Lunch</th>\n",
       "      <th>time_Dinner</th>\n",
       "    </tr>\n",
       "  </thead>\n",
       "  <tbody>\n",
       "    <tr>\n",
       "      <th>54</th>\n",
       "      <td>25.56</td>\n",
       "      <td>4.34</td>\n",
       "      <td>6.0</td>\n",
       "      <td>1</td>\n",
       "      <td>0</td>\n",
       "      <td>0</td>\n",
       "      <td>1</td>\n",
       "      <td>0</td>\n",
       "      <td>0</td>\n",
       "      <td>0</td>\n",
       "      <td>1</td>\n",
       "      <td>0</td>\n",
       "      <td>1</td>\n",
       "    </tr>\n",
       "    <tr>\n",
       "      <th>158</th>\n",
       "      <td>13.39</td>\n",
       "      <td>2.61</td>\n",
       "      <td>7.0</td>\n",
       "      <td>0</td>\n",
       "      <td>1</td>\n",
       "      <td>0</td>\n",
       "      <td>1</td>\n",
       "      <td>0</td>\n",
       "      <td>0</td>\n",
       "      <td>0</td>\n",
       "      <td>1</td>\n",
       "      <td>0</td>\n",
       "      <td>1</td>\n",
       "    </tr>\n",
       "    <tr>\n",
       "      <th>151</th>\n",
       "      <td>13.13</td>\n",
       "      <td>2.00</td>\n",
       "      <td>7.0</td>\n",
       "      <td>1</td>\n",
       "      <td>0</td>\n",
       "      <td>0</td>\n",
       "      <td>1</td>\n",
       "      <td>0</td>\n",
       "      <td>0</td>\n",
       "      <td>0</td>\n",
       "      <td>1</td>\n",
       "      <td>0</td>\n",
       "      <td>1</td>\n",
       "    </tr>\n",
       "    <tr>\n",
       "      <th>230</th>\n",
       "      <td>24.01</td>\n",
       "      <td>2.00</td>\n",
       "      <td>6.0</td>\n",
       "      <td>1</td>\n",
       "      <td>0</td>\n",
       "      <td>1</td>\n",
       "      <td>0</td>\n",
       "      <td>0</td>\n",
       "      <td>0</td>\n",
       "      <td>1</td>\n",
       "      <td>0</td>\n",
       "      <td>0</td>\n",
       "      <td>1</td>\n",
       "    </tr>\n",
       "    <tr>\n",
       "      <th>68</th>\n",
       "      <td>20.23</td>\n",
       "      <td>2.01</td>\n",
       "      <td>10.0</td>\n",
       "      <td>1</td>\n",
       "      <td>0</td>\n",
       "      <td>0</td>\n",
       "      <td>1</td>\n",
       "      <td>0</td>\n",
       "      <td>0</td>\n",
       "      <td>1</td>\n",
       "      <td>0</td>\n",
       "      <td>0</td>\n",
       "      <td>1</td>\n",
       "    </tr>\n",
       "  </tbody>\n",
       "</table>\n",
       "</div>"
      ],
      "text/plain": [
       "     total_bill   tip  price_per_person  sex_Male  sex_Female  smoker_Yes  \\\n",
       "54        25.56  4.34               6.0         1           0           0   \n",
       "158       13.39  2.61               7.0         0           1           0   \n",
       "151       13.13  2.00               7.0         1           0           0   \n",
       "230       24.01  2.00               6.0         1           0           1   \n",
       "68        20.23  2.01              10.0         1           0           0   \n",
       "\n",
       "     smoker_No  day_Thur  day_Fri  day_Sat  day_Sun  time_Lunch  time_Dinner  \n",
       "54           1         0        0        0        1           0            1  \n",
       "158          1         0        0        0        1           0            1  \n",
       "151          1         0        0        0        1           0            1  \n",
       "230          0         0        0        1        0           0            1  \n",
       "68           1         0        0        1        0           0            1  "
      ]
     },
     "execution_count": 42,
     "metadata": {},
     "output_type": "execute_result"
    }
   ],
   "source": [
    "train.head()"
   ]
  },
  {
   "cell_type": "code",
   "execution_count": 43,
   "id": "bd3a920b",
   "metadata": {},
   "outputs": [
    {
     "name": "stdout",
     "output_type": "stream",
     "text": [
      "<class 'pandas.core.frame.DataFrame'>\n",
      "Int64Index: 136 entries, 54 to 82\n",
      "Data columns (total 13 columns):\n",
      " #   Column            Non-Null Count  Dtype  \n",
      "---  ------            --------------  -----  \n",
      " 0   total_bill        136 non-null    float64\n",
      " 1   tip               136 non-null    float64\n",
      " 2   price_per_person  136 non-null    float64\n",
      " 3   sex_Male          136 non-null    uint8  \n",
      " 4   sex_Female        136 non-null    uint8  \n",
      " 5   smoker_Yes        136 non-null    uint8  \n",
      " 6   smoker_No         136 non-null    uint8  \n",
      " 7   day_Thur          136 non-null    uint8  \n",
      " 8   day_Fri           136 non-null    uint8  \n",
      " 9   day_Sat           136 non-null    uint8  \n",
      " 10  day_Sun           136 non-null    uint8  \n",
      " 11  time_Lunch        136 non-null    uint8  \n",
      " 12  time_Dinner       136 non-null    uint8  \n",
      "dtypes: float64(3), uint8(10)\n",
      "memory usage: 5.6 KB\n"
     ]
    }
   ],
   "source": [
    "train.info()"
   ]
  },
  {
   "cell_type": "code",
   "execution_count": 44,
   "id": "578c7347",
   "metadata": {},
   "outputs": [],
   "source": [
    "def k_best_2(df, target):\n",
    "    ''' This function is my pride and joy. \n",
    "    Takes in a dataframe, a target variable, and the number of top attributes\n",
    "    and SO LONG AS ALL COLUMNS ARE NUMERIC\n",
    "    will return a dataframe '''\n",
    "    \n",
    "    \n",
    "    \n",
    "    \n",
    "    # define X_train and y_train:\n",
    "    y_train = df[target]\n",
    "    X_train = df.drop(columns=target)\n",
    "    \n",
    "    #make the thing\n",
    "    kbest= SelectKBest(f_regression, k = 2)\n",
    "    \n",
    "    #fit the thing\n",
    "    _ = kbest.fit(X_train, y_train)\n",
    "    \n",
    "    # makes it pretty\n",
    "    kbest_results = pd.DataFrame(\n",
    "    dict(p=kbest.pvalues_, f=kbest.scores_),index = X_train.columns)#.sort_values('f').head(k)\n",
    "    \n",
    "    \n",
    "    \n",
    "    return kbest_results"
   ]
  },
  {
   "cell_type": "code",
   "execution_count": 45,
   "id": "d93a546c",
   "metadata": {},
   "outputs": [
    {
     "data": {
      "text/html": [
       "<div>\n",
       "<style scoped>\n",
       "    .dataframe tbody tr th:only-of-type {\n",
       "        vertical-align: middle;\n",
       "    }\n",
       "\n",
       "    .dataframe tbody tr th {\n",
       "        vertical-align: top;\n",
       "    }\n",
       "\n",
       "    .dataframe thead th {\n",
       "        text-align: right;\n",
       "    }\n",
       "</style>\n",
       "<table border=\"1\" class=\"dataframe\">\n",
       "  <thead>\n",
       "    <tr style=\"text-align: right;\">\n",
       "      <th></th>\n",
       "      <th>p</th>\n",
       "      <th>f</th>\n",
       "    </tr>\n",
       "  </thead>\n",
       "  <tbody>\n",
       "    <tr>\n",
       "      <th>total_bill</th>\n",
       "      <td>3.864776e-22</td>\n",
       "      <td>136.100652</td>\n",
       "    </tr>\n",
       "    <tr>\n",
       "      <th>price_per_person</th>\n",
       "      <td>3.491043e-06</td>\n",
       "      <td>23.444393</td>\n",
       "    </tr>\n",
       "    <tr>\n",
       "      <th>sex_Male</th>\n",
       "      <td>6.760361e-01</td>\n",
       "      <td>0.175390</td>\n",
       "    </tr>\n",
       "    <tr>\n",
       "      <th>sex_Female</th>\n",
       "      <td>6.760361e-01</td>\n",
       "      <td>0.175390</td>\n",
       "    </tr>\n",
       "    <tr>\n",
       "      <th>smoker_Yes</th>\n",
       "      <td>4.307997e-01</td>\n",
       "      <td>0.624436</td>\n",
       "    </tr>\n",
       "    <tr>\n",
       "      <th>smoker_No</th>\n",
       "      <td>4.307997e-01</td>\n",
       "      <td>0.624436</td>\n",
       "    </tr>\n",
       "    <tr>\n",
       "      <th>day_Thur</th>\n",
       "      <td>1.068027e-01</td>\n",
       "      <td>2.636209</td>\n",
       "    </tr>\n",
       "    <tr>\n",
       "      <th>day_Fri</th>\n",
       "      <td>3.527828e-01</td>\n",
       "      <td>0.869457</td>\n",
       "    </tr>\n",
       "    <tr>\n",
       "      <th>day_Sat</th>\n",
       "      <td>4.756706e-01</td>\n",
       "      <td>0.511648</td>\n",
       "    </tr>\n",
       "    <tr>\n",
       "      <th>day_Sun</th>\n",
       "      <td>1.642773e-01</td>\n",
       "      <td>1.955763</td>\n",
       "    </tr>\n",
       "    <tr>\n",
       "      <th>time_Lunch</th>\n",
       "      <td>5.328398e-02</td>\n",
       "      <td>3.801854</td>\n",
       "    </tr>\n",
       "    <tr>\n",
       "      <th>time_Dinner</th>\n",
       "      <td>5.328398e-02</td>\n",
       "      <td>3.801854</td>\n",
       "    </tr>\n",
       "  </tbody>\n",
       "</table>\n",
       "</div>"
      ],
      "text/plain": [
       "                             p           f\n",
       "total_bill        3.864776e-22  136.100652\n",
       "price_per_person  3.491043e-06   23.444393\n",
       "sex_Male          6.760361e-01    0.175390\n",
       "sex_Female        6.760361e-01    0.175390\n",
       "smoker_Yes        4.307997e-01    0.624436\n",
       "smoker_No         4.307997e-01    0.624436\n",
       "day_Thur          1.068027e-01    2.636209\n",
       "day_Fri           3.527828e-01    0.869457\n",
       "day_Sat           4.756706e-01    0.511648\n",
       "day_Sun           1.642773e-01    1.955763\n",
       "time_Lunch        5.328398e-02    3.801854\n",
       "time_Dinner       5.328398e-02    3.801854"
      ]
     },
     "execution_count": 45,
     "metadata": {},
     "output_type": "execute_result"
    }
   ],
   "source": [
    "k_best_2(train, 'tip')"
   ]
  },
  {
   "cell_type": "code",
   "execution_count": 46,
   "id": "9a21f839",
   "metadata": {},
   "outputs": [],
   "source": [
    "frame=pd.DataFrame = list(X_train.loc[:,kbest_support_mask])"
   ]
  },
  {
   "cell_type": "code",
   "execution_count": 47,
   "id": "45ad9e98",
   "metadata": {},
   "outputs": [
    {
     "name": "stdout",
     "output_type": "stream",
     "text": [
      "['total_bill', 'price_per_person']\n"
     ]
    }
   ],
   "source": [
    "kbest_feature = f_feature = X_train.loc[:,kbest_support_mask].columns.tolist()\n",
    "\n",
    "print(kbest_feature)"
   ]
  },
  {
   "cell_type": "markdown",
   "id": "e8a74e1b",
   "metadata": {},
   "source": [
    "frame_2 = pd.DataFrame=list(\n",
    "    dict(p=kbest.pvalues_, f=kbest.scores_),\n",
    "    index = X_train.columns, \n",
    "    X_train.loc[:,kbest_support_mask])"
   ]
  },
  {
   "cell_type": "code",
   "execution_count": 48,
   "id": "f14d3985",
   "metadata": {},
   "outputs": [],
   "source": [
    "def test_func(df, target, k):\n",
    "    # define X_train and y_train:\n",
    "    y_train = df[target]\n",
    "    X_train = df.drop(columns=target)\n",
    "    \n",
    "    #make the thing\n",
    "    kbest= SelectKBest(f_regression, k = 2)\n",
    "    \n",
    "    #fit the thing\n",
    "    _ = kbest.fit(X_train, y_train)\n",
    "    \n",
    "    # makes it pretty\n",
    "    kbest_results = pd.DataFrame(\n",
    "    dict(p=kbest.pvalues_, f=kbest.scores_),index = X_train.columns.sort_values('f').head(k))\n",
    "    \n",
    "    \n",
    "    \n",
    "    return kbest_results"
   ]
  },
  {
   "cell_type": "code",
   "execution_count": 49,
   "id": "71076c8b",
   "metadata": {},
   "outputs": [],
   "source": [
    "#test_func(train, 'tip', 2)"
   ]
  },
  {
   "cell_type": "markdown",
   "id": "c20c7ec3",
   "metadata": {},
   "source": [
    "# 3. RFE function"
   ]
  },
  {
   "cell_type": "markdown",
   "id": "e13ab859",
   "metadata": {},
   "source": [
    "### Write a function named rfe that takes in the predictors, the target, and the number of features to select. It should return the top k features based on the RFE class. Test your function with the tips dataset. You should see the same results as when you did the process manually."
   ]
  },
  {
   "cell_type": "code",
   "execution_count": 50,
   "id": "d432bbf3",
   "metadata": {},
   "outputs": [],
   "source": [
    "def rfe(pred, target, k=2):\n",
    "    rf = RFE(LinearRegression(), n_features_to_select=k)\n",
    "    rf.fit(pred, target)\n",
    "    mask = rf.get_support()\n",
    "    return pred.columns[mask]"
   ]
  },
  {
   "cell_type": "code",
   "execution_count": 51,
   "id": "7c41c6ad",
   "metadata": {},
   "outputs": [
    {
     "data": {
      "text/plain": [
       "Index(['day_Sat', 'day_Sun'], dtype='object')"
      ]
     },
     "execution_count": 51,
     "metadata": {},
     "output_type": "execute_result"
    }
   ],
   "source": [
    "rfe(X_train, y_train, 2)"
   ]
  },
  {
   "cell_type": "markdown",
   "id": "092a6dd3",
   "metadata": {},
   "source": [
    "# 4. Swiss data for fertility"
   ]
  },
  {
   "cell_type": "markdown",
   "id": "e0bd628b",
   "metadata": {},
   "source": [
    "### Load the swiss dataset and use all the other features to predict Fertility. Find the top 3 features using both select k best and recursive feature elimination (use the functions you just built to help you out)"
   ]
  },
  {
   "cell_type": "code",
   "execution_count": 52,
   "id": "678ff091",
   "metadata": {},
   "outputs": [],
   "source": [
    "swiss = data('swiss')"
   ]
  },
  {
   "cell_type": "code",
   "execution_count": 53,
   "id": "c36a8492",
   "metadata": {},
   "outputs": [
    {
     "data": {
      "text/html": [
       "<div>\n",
       "<style scoped>\n",
       "    .dataframe tbody tr th:only-of-type {\n",
       "        vertical-align: middle;\n",
       "    }\n",
       "\n",
       "    .dataframe tbody tr th {\n",
       "        vertical-align: top;\n",
       "    }\n",
       "\n",
       "    .dataframe thead th {\n",
       "        text-align: right;\n",
       "    }\n",
       "</style>\n",
       "<table border=\"1\" class=\"dataframe\">\n",
       "  <thead>\n",
       "    <tr style=\"text-align: right;\">\n",
       "      <th></th>\n",
       "      <th>Fertility</th>\n",
       "      <th>Agriculture</th>\n",
       "      <th>Examination</th>\n",
       "      <th>Education</th>\n",
       "      <th>Catholic</th>\n",
       "      <th>Infant.Mortality</th>\n",
       "    </tr>\n",
       "  </thead>\n",
       "  <tbody>\n",
       "    <tr>\n",
       "      <th>Courtelary</th>\n",
       "      <td>80.2</td>\n",
       "      <td>17.0</td>\n",
       "      <td>15</td>\n",
       "      <td>12</td>\n",
       "      <td>9.96</td>\n",
       "      <td>22.2</td>\n",
       "    </tr>\n",
       "    <tr>\n",
       "      <th>Delemont</th>\n",
       "      <td>83.1</td>\n",
       "      <td>45.1</td>\n",
       "      <td>6</td>\n",
       "      <td>9</td>\n",
       "      <td>84.84</td>\n",
       "      <td>22.2</td>\n",
       "    </tr>\n",
       "    <tr>\n",
       "      <th>Franches-Mnt</th>\n",
       "      <td>92.5</td>\n",
       "      <td>39.7</td>\n",
       "      <td>5</td>\n",
       "      <td>5</td>\n",
       "      <td>93.40</td>\n",
       "      <td>20.2</td>\n",
       "    </tr>\n",
       "    <tr>\n",
       "      <th>Moutier</th>\n",
       "      <td>85.8</td>\n",
       "      <td>36.5</td>\n",
       "      <td>12</td>\n",
       "      <td>7</td>\n",
       "      <td>33.77</td>\n",
       "      <td>20.3</td>\n",
       "    </tr>\n",
       "    <tr>\n",
       "      <th>Neuveville</th>\n",
       "      <td>76.9</td>\n",
       "      <td>43.5</td>\n",
       "      <td>17</td>\n",
       "      <td>15</td>\n",
       "      <td>5.16</td>\n",
       "      <td>20.6</td>\n",
       "    </tr>\n",
       "  </tbody>\n",
       "</table>\n",
       "</div>"
      ],
      "text/plain": [
       "              Fertility  Agriculture  Examination  Education  Catholic  \\\n",
       "Courtelary         80.2         17.0           15         12      9.96   \n",
       "Delemont           83.1         45.1            6          9     84.84   \n",
       "Franches-Mnt       92.5         39.7            5          5     93.40   \n",
       "Moutier            85.8         36.5           12          7     33.77   \n",
       "Neuveville         76.9         43.5           17         15      5.16   \n",
       "\n",
       "              Infant.Mortality  \n",
       "Courtelary                22.2  \n",
       "Delemont                  22.2  \n",
       "Franches-Mnt              20.2  \n",
       "Moutier                   20.3  \n",
       "Neuveville                20.6  "
      ]
     },
     "execution_count": 53,
     "metadata": {},
     "output_type": "execute_result"
    }
   ],
   "source": [
    "swiss.head()"
   ]
  },
  {
   "cell_type": "code",
   "execution_count": 54,
   "id": "8a1d8a23",
   "metadata": {},
   "outputs": [
    {
     "ename": "TypeError",
     "evalue": "'list' object is not callable",
     "output_type": "error",
     "traceback": [
      "\u001b[0;31m---------------------------------------------------------------------------\u001b[0m",
      "\u001b[0;31mTypeError\u001b[0m                                 Traceback (most recent call last)",
      "Input \u001b[0;32mIn [54]\u001b[0m, in \u001b[0;36m<cell line: 1>\u001b[0;34m()\u001b[0m\n\u001b[0;32m----> 1\u001b[0m \u001b[43mselect_k_best_function\u001b[49m\u001b[43m(\u001b[49m\u001b[43mswiss\u001b[49m\u001b[43m,\u001b[49m\u001b[43m \u001b[49m\u001b[38;5;124;43m'\u001b[39;49m\u001b[38;5;124;43mFertility\u001b[39;49m\u001b[38;5;124;43m'\u001b[39;49m\u001b[43m,\u001b[49m\u001b[43m \u001b[49m\u001b[38;5;241;43m3\u001b[39;49m\u001b[43m)\u001b[49m\n",
      "Input \u001b[0;32mIn [38]\u001b[0m, in \u001b[0;36mselect_k_best_function\u001b[0;34m(df, target, k)\u001b[0m\n\u001b[1;32m     18\u001b[0m _ \u001b[38;5;241m=\u001b[39m kbest\u001b[38;5;241m.\u001b[39mfit(X_train, y_train)\n\u001b[1;32m     20\u001b[0m \u001b[38;5;66;03m# makes it pretty\u001b[39;00m\n\u001b[0;32m---> 21\u001b[0m kbest_results \u001b[38;5;241m=\u001b[39m \u001b[43mpd\u001b[49m\u001b[38;5;241;43m.\u001b[39;49m\u001b[43mDataFrame\u001b[49m\u001b[43m(\u001b[49m\n\u001b[1;32m     22\u001b[0m \u001b[43m\u001b[49m\u001b[38;5;28;43mdict\u001b[39;49m\u001b[43m(\u001b[49m\u001b[43mp\u001b[49m\u001b[38;5;241;43m=\u001b[39;49m\u001b[43mkbest\u001b[49m\u001b[38;5;241;43m.\u001b[39;49m\u001b[43mpvalues_\u001b[49m\u001b[43m,\u001b[49m\u001b[43m \u001b[49m\u001b[43mf\u001b[49m\u001b[38;5;241;43m=\u001b[39;49m\u001b[43mkbest\u001b[49m\u001b[38;5;241;43m.\u001b[39;49m\u001b[43mscores_\u001b[49m\u001b[43m)\u001b[49m\u001b[43m,\u001b[49m\n\u001b[1;32m     23\u001b[0m \u001b[43m                         \u001b[49m\u001b[43mindex\u001b[49m\u001b[43m \u001b[49m\u001b[38;5;241;43m=\u001b[39;49m\u001b[43m \u001b[49m\u001b[43mX_train\u001b[49m\u001b[38;5;241;43m.\u001b[39;49m\u001b[43mcolumns\u001b[49m\u001b[43m)\u001b[49m\u001b[38;5;241m.\u001b[39msort_values(\u001b[38;5;124m'\u001b[39m\u001b[38;5;124mf\u001b[39m\u001b[38;5;124m'\u001b[39m)\u001b[38;5;241m.\u001b[39mhead(k)\n\u001b[1;32m     25\u001b[0m \u001b[38;5;28;01mreturn\u001b[39;00m kbest_results\n",
      "\u001b[0;31mTypeError\u001b[0m: 'list' object is not callable"
     ]
    }
   ],
   "source": [
    "select_k_best_function(swiss, 'Fertility', 3)"
   ]
  },
  {
   "cell_type": "code",
   "execution_count": 57,
   "id": "27f41106",
   "metadata": {},
   "outputs": [],
   "source": [
    "def select_k_best_function(df, target, k):\n",
    "    ''' This function is my pride and joy. \n",
    "    Takes in a dataframe, a target variable, and the number of top attributes\n",
    "    and SO LONG AS ALL COLUMNS ARE NUMERIC\n",
    "    will return a dataframe '''\n",
    "    \n",
    "    \n",
    "    \n",
    "    \n",
    "    # define X_train and y_train:\n",
    "    y_train = df[target]\n",
    "    X_train = df.drop(columns=target)\n",
    "    \n",
    "    #make the thing\n",
    "    kbest= SelectKBest(f_regression, k = k)\n",
    "    \n",
    "    #fit the thing\n",
    "    _ = kbest.fit(X_train, y_train)\n",
    "    \n",
    "    # makes it pretty\n",
    "    kbest_results = pd.DataFrame(\n",
    "    dict(p=kbest.pvalues_, f=kbest.scores_),\n",
    "                             index = X_train.columns).sort_values('f').head(k)\n",
    "    \n",
    "    return kbest_results"
   ]
  },
  {
   "cell_type": "markdown",
   "id": "4da75465",
   "metadata": {},
   "source": [
    "- This function that I wrote for #2 works when called just above being used on swiss data, but somewhere in this notebook between here and there I must have reset X_train to a list because I cannot call the function without getting the above error"
   ]
  },
  {
   "cell_type": "code",
   "execution_count": 59,
   "id": "d3324bce",
   "metadata": {},
   "outputs": [],
   "source": [
    "def new_select_kbest(X,y,k=2):\n",
    "    kbest = SelectKBest(f_regression, k=k)\n",
    "    kbest.fit(X, y)\n",
    "    mask = kbest.get_support()\n",
    "    return X.columns[mask]"
   ]
  },
  {
   "cell_type": "code",
   "execution_count": 60,
   "id": "61132637",
   "metadata": {},
   "outputs": [],
   "source": [
    "X = swiss.drop(columns=['Fertility'])\n",
    "y = swiss['Fertility']"
   ]
  },
  {
   "cell_type": "code",
   "execution_count": 61,
   "id": "2f1ed0fb",
   "metadata": {},
   "outputs": [
    {
     "data": {
      "text/plain": [
       "Index(['Examination', 'Education', 'Catholic'], dtype='object')"
      ]
     },
     "execution_count": 61,
     "metadata": {},
     "output_type": "execute_result"
    }
   ],
   "source": [
    "new_select_kbest(X,y,3)"
   ]
  },
  {
   "cell_type": "markdown",
   "id": "acfc5785",
   "metadata": {},
   "source": [
    "### The above features are different from the ones when I ran it beneatht the function I created in number two. Those features were, 'Agriculture', 'Infant_Mortality', and 'Catholic'"
   ]
  },
  {
   "cell_type": "code",
   "execution_count": 62,
   "id": "9e3933b6",
   "metadata": {},
   "outputs": [
    {
     "data": {
      "text/plain": [
       "Index(['Examination', 'Education', 'Infant.Mortality'], dtype='object')"
      ]
     },
     "execution_count": 62,
     "metadata": {},
     "output_type": "execute_result"
    }
   ],
   "source": [
    "rfe(X,y,3)"
   ]
  },
  {
   "cell_type": "markdown",
   "id": "06795962",
   "metadata": {},
   "source": [
    "### I quit"
   ]
  }
 ],
 "metadata": {
  "kernelspec": {
   "display_name": "Python 3 (ipykernel)",
   "language": "python",
   "name": "python3"
  },
  "language_info": {
   "codemirror_mode": {
    "name": "ipython",
    "version": 3
   },
   "file_extension": ".py",
   "mimetype": "text/x-python",
   "name": "python",
   "nbconvert_exporter": "python",
   "pygments_lexer": "ipython3",
   "version": "3.9.12"
  }
 },
 "nbformat": 4,
 "nbformat_minor": 5
}
