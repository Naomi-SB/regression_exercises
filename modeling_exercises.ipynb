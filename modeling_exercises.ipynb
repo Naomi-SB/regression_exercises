{
 "cells": [
  {
   "cell_type": "code",
   "execution_count": 1,
   "id": "6b4cba6e",
   "metadata": {},
   "outputs": [],
   "source": [
    "import numpy as np\n",
    "import pandas as pd\n",
    "import pydataset as data\n",
    "import matplotlib.pyplot as plt\n",
    "import seaborn as sns\n",
    "\n",
    "from sklearn.feature_selection import RFE\n",
    "from sklearn.metrics import mean_squared_error\n",
    "from sklearn.preprocessing import MinMaxScaler\n",
    "from sklearn.model_selection import train_test_split\n",
    "\n",
    "from sklearn.linear_model import LinearRegression, LassoLars, TweedieRegressor\n",
    "from sklearn.preprocessing import PolynomialFeatures\n",
    "\n",
    "import wrangle\n",
    "import titanic_cleaning\n",
    "\n",
    "import warnings\n",
    "warnings.filterwarnings(\"ignore\")"
   ]
  },
  {
   "cell_type": "markdown",
   "id": "af95b7fe",
   "metadata": {},
   "source": [
    "# 1) select data set: Zillow"
   ]
  },
  {
   "cell_type": "code",
   "execution_count": 2,
   "id": "cd8233e7",
   "metadata": {},
   "outputs": [],
   "source": [
    "df = wrangle.wrangle_zillow()"
   ]
  },
  {
   "cell_type": "code",
   "execution_count": 3,
   "id": "f5220a3a",
   "metadata": {},
   "outputs": [
    {
     "data": {
      "text/html": [
       "<div>\n",
       "<style scoped>\n",
       "    .dataframe tbody tr th:only-of-type {\n",
       "        vertical-align: middle;\n",
       "    }\n",
       "\n",
       "    .dataframe tbody tr th {\n",
       "        vertical-align: top;\n",
       "    }\n",
       "\n",
       "    .dataframe thead th {\n",
       "        text-align: right;\n",
       "    }\n",
       "</style>\n",
       "<table border=\"1\" class=\"dataframe\">\n",
       "  <thead>\n",
       "    <tr style=\"text-align: right;\">\n",
       "      <th></th>\n",
       "      <th>bed_rms</th>\n",
       "      <th>bath_rms</th>\n",
       "      <th>sq_ft</th>\n",
       "      <th>tax_value</th>\n",
       "      <th>yr_blt</th>\n",
       "      <th>taxamount</th>\n",
       "      <th>fips</th>\n",
       "    </tr>\n",
       "  </thead>\n",
       "  <tbody>\n",
       "    <tr>\n",
       "      <th>4</th>\n",
       "      <td>4.0</td>\n",
       "      <td>2.0</td>\n",
       "      <td>3633.0</td>\n",
       "      <td>296425.0</td>\n",
       "      <td>2005.0</td>\n",
       "      <td>6941.39</td>\n",
       "      <td>6037.0</td>\n",
       "    </tr>\n",
       "    <tr>\n",
       "      <th>6</th>\n",
       "      <td>3.0</td>\n",
       "      <td>4.0</td>\n",
       "      <td>1620.0</td>\n",
       "      <td>847770.0</td>\n",
       "      <td>2011.0</td>\n",
       "      <td>10244.94</td>\n",
       "      <td>6037.0</td>\n",
       "    </tr>\n",
       "    <tr>\n",
       "      <th>7</th>\n",
       "      <td>3.0</td>\n",
       "      <td>2.0</td>\n",
       "      <td>2077.0</td>\n",
       "      <td>646760.0</td>\n",
       "      <td>1926.0</td>\n",
       "      <td>7924.68</td>\n",
       "      <td>6037.0</td>\n",
       "    </tr>\n",
       "    <tr>\n",
       "      <th>11</th>\n",
       "      <td>0.0</td>\n",
       "      <td>0.0</td>\n",
       "      <td>1200.0</td>\n",
       "      <td>5328.0</td>\n",
       "      <td>1972.0</td>\n",
       "      <td>91.60</td>\n",
       "      <td>6037.0</td>\n",
       "    </tr>\n",
       "    <tr>\n",
       "      <th>14</th>\n",
       "      <td>0.0</td>\n",
       "      <td>0.0</td>\n",
       "      <td>171.0</td>\n",
       "      <td>6920.0</td>\n",
       "      <td>1973.0</td>\n",
       "      <td>255.17</td>\n",
       "      <td>6037.0</td>\n",
       "    </tr>\n",
       "  </tbody>\n",
       "</table>\n",
       "</div>"
      ],
      "text/plain": [
       "    bed_rms  bath_rms   sq_ft  tax_value  yr_blt  taxamount    fips\n",
       "4       4.0       2.0  3633.0   296425.0  2005.0    6941.39  6037.0\n",
       "6       3.0       4.0  1620.0   847770.0  2011.0   10244.94  6037.0\n",
       "7       3.0       2.0  2077.0   646760.0  1926.0    7924.68  6037.0\n",
       "11      0.0       0.0  1200.0     5328.0  1972.0      91.60  6037.0\n",
       "14      0.0       0.0   171.0     6920.0  1973.0     255.17  6037.0"
      ]
     },
     "execution_count": 3,
     "metadata": {},
     "output_type": "execute_result"
    }
   ],
   "source": [
    "df.head()"
   ]
  },
  {
   "cell_type": "markdown",
   "id": "3a45eafa",
   "metadata": {},
   "source": [
    "# 2) Prepare data"
   ]
  },
  {
   "cell_type": "code",
   "execution_count": 4,
   "id": "db7438e1",
   "metadata": {},
   "outputs": [],
   "source": [
    "df = wrangle.remove_human_outliers(df)"
   ]
  },
  {
   "cell_type": "code",
   "execution_count": 5,
   "id": "08450779",
   "metadata": {},
   "outputs": [
    {
     "name": "stdout",
     "output_type": "stream",
     "text": [
      "<class 'pandas.core.frame.DataFrame'>\n",
      "Int64Index: 2126595 entries, 4 to 2152862\n",
      "Data columns (total 7 columns):\n",
      " #   Column     Dtype  \n",
      "---  ------     -----  \n",
      " 0   bed_rms    float64\n",
      " 1   bath_rms   float64\n",
      " 2   sq_ft      float64\n",
      " 3   tax_value  float64\n",
      " 4   yr_blt     float64\n",
      " 5   taxamount  float64\n",
      " 6   fips       float64\n",
      "dtypes: float64(7)\n",
      "memory usage: 129.8 MB\n"
     ]
    }
   ],
   "source": [
    "df.info()"
   ]
  },
  {
   "cell_type": "code",
   "execution_count": 6,
   "id": "77a7bd78",
   "metadata": {},
   "outputs": [],
   "source": [
    "train, validate, test = wrangle.split_data(df)"
   ]
  },
  {
   "cell_type": "code",
   "execution_count": 7,
   "id": "ee43aae5",
   "metadata": {},
   "outputs": [
    {
     "name": "stdout",
     "output_type": "stream",
     "text": [
      "<class 'pandas.core.frame.DataFrame'>\n",
      "Int64Index: 1190893 entries, 976303 to 248886\n",
      "Data columns (total 7 columns):\n",
      " #   Column     Non-Null Count    Dtype  \n",
      "---  ------     --------------    -----  \n",
      " 0   bed_rms    1190893 non-null  float64\n",
      " 1   bath_rms   1190893 non-null  float64\n",
      " 2   sq_ft      1190893 non-null  float64\n",
      " 3   tax_value  1190893 non-null  float64\n",
      " 4   yr_blt     1190893 non-null  float64\n",
      " 5   taxamount  1190893 non-null  float64\n",
      " 6   fips       1190893 non-null  float64\n",
      "dtypes: float64(7)\n",
      "memory usage: 72.7 MB\n"
     ]
    }
   ],
   "source": [
    "train.info()"
   ]
  },
  {
   "cell_type": "code",
   "execution_count": 8,
   "id": "221f4e7b",
   "metadata": {},
   "outputs": [],
   "source": [
    "train = train.sample(frac = 0.5)"
   ]
  },
  {
   "cell_type": "code",
   "execution_count": 9,
   "id": "ed7675fb",
   "metadata": {},
   "outputs": [
    {
     "name": "stdout",
     "output_type": "stream",
     "text": [
      "<class 'pandas.core.frame.DataFrame'>\n",
      "Int64Index: 595446 entries, 71579 to 1995548\n",
      "Data columns (total 7 columns):\n",
      " #   Column     Non-Null Count   Dtype  \n",
      "---  ------     --------------   -----  \n",
      " 0   bed_rms    595446 non-null  float64\n",
      " 1   bath_rms   595446 non-null  float64\n",
      " 2   sq_ft      595446 non-null  float64\n",
      " 3   tax_value  595446 non-null  float64\n",
      " 4   yr_blt     595446 non-null  float64\n",
      " 5   taxamount  595446 non-null  float64\n",
      " 6   fips       595446 non-null  float64\n",
      "dtypes: float64(7)\n",
      "memory usage: 36.3 MB\n"
     ]
    }
   ],
   "source": [
    "train.info()"
   ]
  },
  {
   "cell_type": "code",
   "execution_count": 10,
   "id": "1c55e41a",
   "metadata": {},
   "outputs": [],
   "source": [
    "train.drop(columns=['taxamount'], inplace = True)"
   ]
  },
  {
   "cell_type": "code",
   "execution_count": 11,
   "id": "46dfc5ed",
   "metadata": {},
   "outputs": [
    {
     "name": "stdout",
     "output_type": "stream",
     "text": [
      "<class 'pandas.core.frame.DataFrame'>\n",
      "Int64Index: 595446 entries, 71579 to 1995548\n",
      "Data columns (total 6 columns):\n",
      " #   Column     Non-Null Count   Dtype  \n",
      "---  ------     --------------   -----  \n",
      " 0   bed_rms    595446 non-null  float64\n",
      " 1   bath_rms   595446 non-null  float64\n",
      " 2   sq_ft      595446 non-null  float64\n",
      " 3   tax_value  595446 non-null  float64\n",
      " 4   yr_blt     595446 non-null  float64\n",
      " 5   fips       595446 non-null  float64\n",
      "dtypes: float64(6)\n",
      "memory usage: 31.8 MB\n"
     ]
    }
   ],
   "source": [
    "train.info()"
   ]
  },
  {
   "cell_type": "markdown",
   "id": "5f6e91f0",
   "metadata": {},
   "source": [
    "# 3) Work through all the steps"
   ]
  },
  {
   "cell_type": "code",
   "execution_count": 12,
   "id": "7cbdd3cb",
   "metadata": {},
   "outputs": [
    {
     "data": {
      "text/plain": [
       "442539.47228967864"
      ]
     },
     "execution_count": 12,
     "metadata": {},
     "output_type": "execute_result"
    }
   ],
   "source": [
    "train.tax_value.mean()"
   ]
  },
  {
   "cell_type": "code",
   "execution_count": 13,
   "id": "f04d66d2",
   "metadata": {},
   "outputs": [
    {
     "name": "stdout",
     "output_type": "stream",
     "text": [
      "<class 'pandas.core.frame.DataFrame'>\n",
      "Int64Index: 510383 entries, 678208 to 237299\n",
      "Data columns (total 7 columns):\n",
      " #   Column     Non-Null Count   Dtype  \n",
      "---  ------     --------------   -----  \n",
      " 0   bed_rms    510383 non-null  float64\n",
      " 1   bath_rms   510383 non-null  float64\n",
      " 2   sq_ft      510383 non-null  float64\n",
      " 3   tax_value  510383 non-null  float64\n",
      " 4   yr_blt     510383 non-null  float64\n",
      " 5   taxamount  510383 non-null  float64\n",
      " 6   fips       510383 non-null  float64\n",
      "dtypes: float64(7)\n",
      "memory usage: 31.2 MB\n"
     ]
    }
   ],
   "source": [
    "validate.info()"
   ]
  },
  {
   "cell_type": "code",
   "execution_count": 14,
   "id": "78329f96",
   "metadata": {},
   "outputs": [],
   "source": [
    "X_cols = ['bed_rms', 'bath_rms', 'sq_ft', 'yr_blt', 'fips']"
   ]
  },
  {
   "cell_type": "code",
   "execution_count": 15,
   "id": "4124d70e",
   "metadata": {},
   "outputs": [],
   "source": [
    "# split data into X and y\n",
    "X_train = train[X_cols]\n",
    "y_train = train.tax_value\n",
    "\n",
    "X_validate = validate[X_cols]\n",
    "y_validate = validate.tax_value\n",
    "\n",
    "X_test = test[X_cols]\n",
    "y_test = test.tax_value"
   ]
  },
  {
   "cell_type": "markdown",
   "id": "f2dfd925",
   "metadata": {},
   "source": [
    "### Baseline"
   ]
  },
  {
   "cell_type": "code",
   "execution_count": 16,
   "id": "d1482744",
   "metadata": {},
   "outputs": [
    {
     "name": "stdout",
     "output_type": "stream",
     "text": [
      "RMSE using Mean\n",
      "Train/In-Sample:  526065.54 \n",
      "Validate/Out-of-Sample:  536175.54\n",
      "RMSE using Median\n",
      "Train/In-Sample:  538578.75 \n",
      "Validate/Out-of-Sample:  548640.16\n"
     ]
    }
   ],
   "source": [
    "# creating data frames for y_train and y_validate\n",
    "y_train = pd.DataFrame(y_train)\n",
    "y_validate = pd.DataFrame(y_validate)\n",
    "                    \n",
    "    \n",
    "# Predict tax_value_mean\n",
    "tax_value_pred_mean = y_train['tax_value'].mean()\n",
    "y_train['tax_value_pred_mean']= tax_value_pred_mean\n",
    "y_validate['tax_value_pred_mean'] = tax_value_pred_mean\n",
    "\n",
    "# Predict tax_value median\n",
    "tax_value_pred_median = y_train['tax_value'].median()\n",
    "y_train['tax_value_pred_median'] = tax_value_pred_median\n",
    "y_validate['tax_value_pred_median'] = tax_value_pred_median\n",
    "\n",
    "# 3. RMSE of tax_value_pred_mean\n",
    "rmse_train = mean_squared_error(y_train.tax_value, y_train.tax_value_pred_mean)**(1/2)\n",
    "rmse_validate = mean_squared_error(y_validate.tax_value, y_validate.tax_value_pred_mean)**(1/2)\n",
    "\n",
    "print(\"RMSE using Mean\\nTrain/In-Sample: \", round(rmse_train, 2), \n",
    "      \"\\nValidate/Out-of-Sample: \", round(rmse_validate, 2))\n",
    "\n",
    "# 4. RMSE of tax_value_pred_median\n",
    "rmse_train = mean_squared_error(y_train.tax_value, y_train.tax_value_pred_median)**(1/2)\n",
    "rmse_validate = mean_squared_error(y_validate.tax_value, y_validate.tax_value_pred_median)**(1/2)\n",
    "\n",
    "print(\"RMSE using Median\\nTrain/In-Sample: \", round(rmse_train, 2), \n",
    "      \"\\nValidate/Out-of-Sample: \", round(rmse_validate, 2))"
   ]
  },
  {
   "cell_type": "markdown",
   "id": "0a7cb8d0",
   "metadata": {},
   "source": [
    "### Viz for Baseline"
   ]
  },
  {
   "cell_type": "code",
   "execution_count": 34,
   "id": "80086223",
   "metadata": {},
   "outputs": [
    {
     "data": {
      "image/png": "[encoded data removed]",
      "text/plain": [
       "<Figure size 432x288 with 1 Axes>"
      ]
     },
     "metadata": {
      "needs_background": "light"
     },
     "output_type": "display_data"
    }
   ],
   "source": [
    "# plot to visualize actual vs predicted. \n",
    "\n",
    "plt.hist(y_train.tax_value, color='blue', alpha=.5, label=\"Actual tax value of house\")\n",
    "plt.hist(y_train.tax_value_pred_mean, color='red', alpha=.5, label=\"Predicted tax values - Mean\")\n",
    "plt.hist(y_train.tax_value_pred_median, color='orange', alpha=.5, label=\"Predicted tax values - Median\")\n",
    "plt.xlabel(\"tax value\")\n",
    "plt.ylabel(\"Number of houses\")\n",
    "plt.legend()\n",
    "plt.show()\n"
   ]
  },
  {
   "cell_type": "code",
   "execution_count": 18,
   "id": "69df4ecf",
   "metadata": {},
   "outputs": [
    {
     "data": {
      "text/plain": [
       "442539.47228967864"
      ]
     },
     "execution_count": 18,
     "metadata": {},
     "output_type": "execute_result"
    }
   ],
   "source": [
    "tax_value_pred_mean"
   ]
  },
  {
   "cell_type": "code",
   "execution_count": 19,
   "id": "ebfd3c5c",
   "metadata": {},
   "outputs": [
    {
     "data": {
      "text/plain": [
       "327118.0"
      ]
     },
     "execution_count": 19,
     "metadata": {},
     "output_type": "execute_result"
    }
   ],
   "source": [
    "tax_value_pred_median"
   ]
  },
  {
   "cell_type": "code",
   "execution_count": null,
   "id": "199933d9",
   "metadata": {},
   "outputs": [],
   "source": []
  },
  {
   "cell_type": "markdown",
   "id": "4d95fd42",
   "metadata": {},
   "source": [
    "### OLS Model"
   ]
  },
  {
   "cell_type": "code",
   "execution_count": 20,
   "id": "58384212",
   "metadata": {},
   "outputs": [
    {
     "name": "stdout",
     "output_type": "stream",
     "text": [
      "RMSE for OLS using LinearRegression\n",
      "Training/In-Sample:  425734.23094901326 \n",
      "Validation/Out-of-Sample:  433713.26969278173\n"
     ]
    }
   ],
   "source": [
    "# create the model object\n",
    "lm = LinearRegression(normalize=True)\n",
    "\n",
    "# fit the model to our training data. We must specify the column in y_train, \n",
    "# since we have converted it to a dataframe from a series! \n",
    "lm.fit(X_train, y_train.tax_value)\n",
    "\n",
    "# predict train\n",
    "y_train['tax_value_pred_lm'] = lm.predict(X_train)\n",
    "\n",
    "# evaluate: rmse\n",
    "rmse_train = mean_squared_error(y_train.tax_value, y_train.tax_value_pred_lm)**(1/2)\n",
    "\n",
    "# predict validate\n",
    "y_validate['tax_value_pred_lm'] = lm.predict(X_validate)\n",
    "\n",
    "# evaluate: rmse\n",
    "rmse_validate = mean_squared_error(y_validate.tax_value, y_validate.tax_value_pred_lm)**(1/2)\n",
    "\n",
    "print(\"RMSE for OLS using LinearRegression\\nTraining/In-Sample: \", rmse_train, \n",
    "      \"\\nValidation/Out-of-Sample: \", rmse_validate)\n"
   ]
  },
  {
   "cell_type": "markdown",
   "id": "75f2d3db",
   "metadata": {},
   "source": [
    "### Polynomial Regression Model"
   ]
  },
  {
   "cell_type": "code",
   "execution_count": 21,
   "id": "6af68142",
   "metadata": {},
   "outputs": [],
   "source": [
    "# setting features\n",
    "\n",
    "# make the polynomial features to get a new set of features\n",
    "pf = PolynomialFeatures(degree=2)\n",
    "\n",
    "# fit and transform X_train_scaled\n",
    "X_train_degree2 = pf.fit_transform(X_train)\n",
    "\n",
    "# transform X_validate_scaled & X_test_scaled\n",
    "X_validate_degree2 = pf.transform(X_validate)\n",
    "X_test_degree2 = pf.transform(X_test)\n"
   ]
  },
  {
   "cell_type": "code",
   "execution_count": 22,
   "id": "7f6ff991",
   "metadata": {},
   "outputs": [
    {
     "name": "stdout",
     "output_type": "stream",
     "text": [
      "RMSE for Polynomial Model, degrees=2\n",
      "Training/In-Sample:  411430.39636246616 \n",
      "Validation/Out-of-Sample:  418696.08556005673\n"
     ]
    }
   ],
   "source": [
    "# Linear Regression\n",
    "\n",
    "# create the model object\n",
    "lm2 = LinearRegression(normalize=True)\n",
    "\n",
    "# fit the model to our training data. We must specify the column in y_train, \n",
    "# since we have converted it to a dataframe from a series! \n",
    "lm2.fit(X_train_degree2, y_train.tax_value)\n",
    "\n",
    "# predict train\n",
    "y_train['tax_value_pred_lm2'] = lm2.predict(X_train_degree2)\n",
    "\n",
    "# evaluate: rmse\n",
    "rmse_train = mean_squared_error(y_train.tax_value, y_train.tax_value_pred_lm2)**(1/2)\n",
    "\n",
    "# predict validate\n",
    "y_validate['tax_value_pred_lm2'] = lm2.predict(X_validate_degree2)\n",
    "\n",
    "# evaluate: rmse\n",
    "rmse_validate = mean_squared_error(y_validate.tax_value, y_validate.tax_value_pred_lm2)**(1/2)\n",
    "\n",
    "print(\"RMSE for Polynomial Model, degrees=2\\nTraining/In-Sample: \", rmse_train, \n",
    "      \"\\nValidation/Out-of-Sample: \", rmse_validate)\n"
   ]
  },
  {
   "cell_type": "code",
   "execution_count": 23,
   "id": "f7e7411a",
   "metadata": {},
   "outputs": [],
   "source": [
    "# trying again with degree 4\n",
    "\n",
    "# setting features\n",
    "\n",
    "# make the polynomial features to get a new set of features\n",
    "pf = PolynomialFeatures(degree=4)\n",
    "\n",
    "# fit and transform X_train_scaled\n",
    "X_train_degree4 = pf.fit_transform(X_train)\n",
    "\n",
    "# transform X_validate_scaled & X_test_scaled\n",
    "X_validate_degree4 = pf.transform(X_validate)\n",
    "X_test_degree4 = pf.transform(X_test)"
   ]
  },
  {
   "cell_type": "code",
   "execution_count": 24,
   "id": "4e996db2",
   "metadata": {},
   "outputs": [
    {
     "name": "stdout",
     "output_type": "stream",
     "text": [
      "RMSE for Polynomial Model, degrees=4\n",
      "Training/In-Sample:  404366.64039439533 \n",
      "Validation/Out-of-Sample:  420215.7767350579\n"
     ]
    }
   ],
   "source": [
    "# Linear Regression\n",
    "\n",
    "# create the model object\n",
    "lm4 = LinearRegression(normalize=True)\n",
    "\n",
    "# fit the model to our training data. We must specify the column in y_train, \n",
    "# since we have converted it to a dataframe from a series! \n",
    "lm4.fit(X_train_degree4, y_train.tax_value)\n",
    "\n",
    "# predict train\n",
    "y_train['tax_value_pred_lm4'] = lm4.predict(X_train_degree4)\n",
    "\n",
    "# evaluate: rmse\n",
    "rmse_train = mean_squared_error(y_train.tax_value, y_train.tax_value_pred_lm4)**(1/2)\n",
    "\n",
    "# predict validate\n",
    "y_validate['tax_value_pred_lm4'] = lm4.predict(X_validate_degree4)\n",
    "\n",
    "# evaluate: rmse\n",
    "rmse_validate = mean_squared_error(y_validate.tax_value, y_validate.tax_value_pred_lm4)**(1/2)\n",
    "\n",
    "print(\"RMSE for Polynomial Model, degrees=4\\nTraining/In-Sample: \", rmse_train, \n",
    "      \"\\nValidation/Out-of-Sample: \", rmse_validate)\n",
    "\n"
   ]
  },
  {
   "cell_type": "markdown",
   "id": "b7e3fa16",
   "metadata": {},
   "source": [
    "### Lasso Lars Model"
   ]
  },
  {
   "cell_type": "code",
   "execution_count": 25,
   "id": "b4ba1d6f",
   "metadata": {},
   "outputs": [
    {
     "name": "stdout",
     "output_type": "stream",
     "text": [
      "RMSE for Lasso + Lars\n",
      "Training/In-Sample:  425740.49428513274 \n",
      "Validation/Out-of-Sample:  433735.29309771815\n"
     ]
    }
   ],
   "source": [
    "# create the model object\n",
    "lars = LassoLars(alpha=1.0)\n",
    "\n",
    "# fit the model to our training data. We must specify the column in y_train, \n",
    "# since we have converted it to a dataframe from a series! \n",
    "lars.fit(X_train, y_train.tax_value)\n",
    "\n",
    "# predict train\n",
    "y_train['tax_value_pred_lars'] = lars.predict(X_train)\n",
    "\n",
    "# evaluate: rmse\n",
    "rmse_train = mean_squared_error(y_train.tax_value, y_train.tax_value_pred_lars)**(1/2)\n",
    "\n",
    "# predict validate\n",
    "y_validate['tax_value_pred_lars'] = lars.predict(X_validate)\n",
    "\n",
    "# evaluate: rmse\n",
    "rmse_validate = mean_squared_error(y_validate.tax_value, y_validate.tax_value_pred_lars)**(1/2)\n",
    "\n",
    "print(\"RMSE for Lasso + Lars\\nTraining/In-Sample: \", rmse_train, \n",
    "      \"\\nValidation/Out-of-Sample: \", rmse_validate)\n"
   ]
  },
  {
   "cell_type": "markdown",
   "id": "c6f6e0d1",
   "metadata": {},
   "source": [
    "### GLM"
   ]
  },
  {
   "cell_type": "code",
   "execution_count": 26,
   "id": "b6073a26",
   "metadata": {},
   "outputs": [
    {
     "name": "stdout",
     "output_type": "stream",
     "text": [
      "RMSE for GLM using Tweedie, power=1 & alpha=0\n",
      "Training/In-Sample:  526065.5442413893 \n",
      "Validation/Out-of-Sample:  536175.5380789593\n"
     ]
    }
   ],
   "source": [
    "# create the model object\n",
    "glm = TweedieRegressor(power=1, alpha=0)\n",
    "\n",
    "# fit the model to our training data. We must specify the column in y_train, \n",
    "# since we have converted it to a dataframe from a series! \n",
    "glm.fit(X_train, y_train.tax_value)\n",
    "\n",
    "# predict train\n",
    "y_train['tax_value_pred_glm'] = glm.predict(X_train)\n",
    "\n",
    "# evaluate: rmse\n",
    "rmse_train = mean_squared_error(y_train.tax_value, y_train.tax_value_pred_glm)**(1/2)\n",
    "\n",
    "# predict validate\n",
    "y_validate['tax_value_pred_glm'] = glm.predict(X_validate)\n",
    "\n",
    "# evaluate: rmse\n",
    "rmse_validate = mean_squared_error(y_validate.tax_value, y_validate.tax_value_pred_glm)**(1/2)\n",
    "\n",
    "print(\"RMSE for GLM using Tweedie, power=1 & alpha=0\\nTraining/In-Sample: \", rmse_train, \n",
    "      \"\\nValidation/Out-of-Sample: \", rmse_validate)\n"
   ]
  },
  {
   "cell_type": "markdown",
   "id": "f90387bb",
   "metadata": {},
   "source": [
    "## Evaluation"
   ]
  },
  {
   "cell_type": "code",
   "execution_count": 32,
   "id": "ac6ef137",
   "metadata": {},
   "outputs": [
    {
     "data": {
      "image/png": "[encoded data removed]",
      "text/plain": [
       "<Figure size 1152x576 with 1 Axes>"
      ]
     },
     "metadata": {
      "needs_background": "light"
     },
     "output_type": "display_data"
    }
   ],
   "source": [
    "plt.figure(figsize=(16,8))\n",
    "plt.hist(y_validate.tax_value, color='blue', alpha=.5, label=\"Actual Final Grades\")\n",
    "plt.hist(y_validate.tax_value_pred_lm, color='red', alpha=.5, label=\"Model: LinearRegression\")\n",
    "plt.hist(y_validate.tax_value_pred_glm, color='yellow', alpha=.5, label=\"Model: TweedieRegressor\")\n",
    "plt.hist(y_validate.tax_value_pred_lm2, color='green', alpha=.5, label=\"Model 2nd degree Polynomial\")\n",
    "plt.hist(y_validate.tax_value_pred_lm4, color = 'orange', alpha =.5, label= 'Model 4th degree Polynomial')\n",
    "plt.xlabel(\"Final Grade (tax_value)\")\n",
    "plt.ylabel(\"Number of Students\")\n",
    "plt.title(\"Comparing the Distribution of Actual Grades to Distributions of Predicted Grades for the Top Models\")\n",
    "plt.legend()\n",
    "plt.show()\n"
   ]
  },
  {
   "cell_type": "code",
   "execution_count": 28,
   "id": "34f2e0e1",
   "metadata": {},
   "outputs": [
    {
     "data": {
      "text/html": [
       "<div>\n",
       "<style scoped>\n",
       "    .dataframe tbody tr th:only-of-type {\n",
       "        vertical-align: middle;\n",
       "    }\n",
       "\n",
       "    .dataframe tbody tr th {\n",
       "        vertical-align: top;\n",
       "    }\n",
       "\n",
       "    .dataframe thead th {\n",
       "        text-align: right;\n",
       "    }\n",
       "</style>\n",
       "<table border=\"1\" class=\"dataframe\">\n",
       "  <thead>\n",
       "    <tr style=\"text-align: right;\">\n",
       "      <th></th>\n",
       "      <th>tax_value</th>\n",
       "      <th>tax_value_pred_mean</th>\n",
       "      <th>tax_value_pred_median</th>\n",
       "      <th>tax_value_pred_lm</th>\n",
       "      <th>tax_value_pred_lm2</th>\n",
       "      <th>tax_value_pred_lm4</th>\n",
       "      <th>tax_value_pred_lars</th>\n",
       "      <th>tax_value_pred_glm</th>\n",
       "    </tr>\n",
       "  </thead>\n",
       "  <tbody>\n",
       "    <tr>\n",
       "      <th>678208</th>\n",
       "      <td>347000.0</td>\n",
       "      <td>442539.47229</td>\n",
       "      <td>327118.0</td>\n",
       "      <td>535614.592061</td>\n",
       "      <td>463877.952255</td>\n",
       "      <td>436232.0</td>\n",
       "      <td>530998.179458</td>\n",
       "      <td>442539.47229</td>\n",
       "    </tr>\n",
       "    <tr>\n",
       "      <th>1017832</th>\n",
       "      <td>59384.0</td>\n",
       "      <td>442539.47229</td>\n",
       "      <td>327118.0</td>\n",
       "      <td>218606.159422</td>\n",
       "      <td>239501.279100</td>\n",
       "      <td>261800.0</td>\n",
       "      <td>218314.567289</td>\n",
       "      <td>442539.47229</td>\n",
       "    </tr>\n",
       "    <tr>\n",
       "      <th>826666</th>\n",
       "      <td>305482.0</td>\n",
       "      <td>442539.47229</td>\n",
       "      <td>327118.0</td>\n",
       "      <td>136985.536775</td>\n",
       "      <td>299175.204932</td>\n",
       "      <td>311464.0</td>\n",
       "      <td>139613.021701</td>\n",
       "      <td>442539.47229</td>\n",
       "    </tr>\n",
       "    <tr>\n",
       "      <th>1183333</th>\n",
       "      <td>122033.0</td>\n",
       "      <td>442539.47229</td>\n",
       "      <td>327118.0</td>\n",
       "      <td>376157.180219</td>\n",
       "      <td>423889.469383</td>\n",
       "      <td>466480.0</td>\n",
       "      <td>379174.805579</td>\n",
       "      <td>442539.47229</td>\n",
       "    </tr>\n",
       "    <tr>\n",
       "      <th>1966872</th>\n",
       "      <td>177849.0</td>\n",
       "      <td>442539.47229</td>\n",
       "      <td>327118.0</td>\n",
       "      <td>281144.436867</td>\n",
       "      <td>296331.111304</td>\n",
       "      <td>306016.0</td>\n",
       "      <td>280240.415161</td>\n",
       "      <td>442539.47229</td>\n",
       "    </tr>\n",
       "  </tbody>\n",
       "</table>\n",
       "</div>"
      ],
      "text/plain": [
       "         tax_value  tax_value_pred_mean  tax_value_pred_median  \\\n",
       "678208    347000.0         442539.47229               327118.0   \n",
       "1017832    59384.0         442539.47229               327118.0   \n",
       "826666    305482.0         442539.47229               327118.0   \n",
       "1183333   122033.0         442539.47229               327118.0   \n",
       "1966872   177849.0         442539.47229               327118.0   \n",
       "\n",
       "         tax_value_pred_lm  tax_value_pred_lm2  tax_value_pred_lm4  \\\n",
       "678208       535614.592061       463877.952255            436232.0   \n",
       "1017832      218606.159422       239501.279100            261800.0   \n",
       "826666       136985.536775       299175.204932            311464.0   \n",
       "1183333      376157.180219       423889.469383            466480.0   \n",
       "1966872      281144.436867       296331.111304            306016.0   \n",
       "\n",
       "         tax_value_pred_lars  tax_value_pred_glm  \n",
       "678208         530998.179458        442539.47229  \n",
       "1017832        218314.567289        442539.47229  \n",
       "826666         139613.021701        442539.47229  \n",
       "1183333        379174.805579        442539.47229  \n",
       "1966872        280240.415161        442539.47229  "
      ]
     },
     "execution_count": 28,
     "metadata": {},
     "output_type": "execute_result"
    }
   ],
   "source": [
    "y_validate.head()"
   ]
  },
  {
   "cell_type": "markdown",
   "id": "1d24d264",
   "metadata": {},
   "source": [
    "# I hate all of this. I'm going to start over"
   ]
  },
  {
   "cell_type": "code",
   "execution_count": 29,
   "id": "1439611e",
   "metadata": {},
   "outputs": [],
   "source": [
    "import numpy as np\n",
    "import pandas as pd\n",
    "import pydataset as data\n",
    "import matplotlib.pyplot as plt\n",
    "import seaborn as sns\n",
    "\n",
    "from sklearn.feature_selection import RFE\n",
    "from sklearn.metrics import mean_squared_error\n",
    "from sklearn.preprocessing import MinMaxScaler\n",
    "from sklearn.model_selection import train_test_split\n",
    "\n",
    "from sklearn.linear_model import LinearRegression, LassoLars, TweedieRegressor\n",
    "from sklearn.preprocessing import PolynomialFeatures\n",
    "\n",
    "import wrangle\n",
    "\n",
    "import warnings\n",
    "warnings.filterwarnings(\"ignore\")"
   ]
  },
  {
   "cell_type": "code",
   "execution_count": 30,
   "id": "42e07dd5",
   "metadata": {},
   "outputs": [],
   "source": [
    "df = wrangle.wrangle_zillow()"
   ]
  },
  {
   "cell_type": "code",
   "execution_count": 31,
   "id": "752dae4c",
   "metadata": {},
   "outputs": [],
   "source": [
    "df = wrangle.remove_human_outliers(df)\n",
    "train, validate, test = wrangle.split_data(df)\n",
    "train = train.sample(frac = 0.5)\n",
    "train.drop(columns=['taxamount'], inplace = True)"
   ]
  },
  {
   "cell_type": "code",
   "execution_count": null,
   "id": "72fe9210",
   "metadata": {},
   "outputs": [],
   "source": []
  }
 ],
 "metadata": {
  "kernelspec": {
   "display_name": "Python 3 (ipykernel)",
   "language": "python",
   "name": "python3"
  },
  "language_info": {
   "codemirror_mode": {
    "name": "ipython",
    "version": 3
   },
   "file_extension": ".py",
   "mimetype": "text/x-python",
   "name": "python",
   "nbconvert_exporter": "python",
   "pygments_lexer": "ipython3",
   "version": "3.9.12"
  }
 },
 "nbformat": 4,
 "nbformat_minor": 5
}
