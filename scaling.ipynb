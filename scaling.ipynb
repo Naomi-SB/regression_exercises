{
 "cells": [
  {
   "cell_type": "code",
   "execution_count": 1,
   "id": "269d964a",
   "metadata": {},
   "outputs": [],
   "source": [
    "import matplotlib.pyplot as plt\n",
    "import seaborn as sns\n",
    "\n",
    "from sklearn.model_selection import train_test_split\n",
    "\n",
    "import pandas as pd\n",
    "import numpy as np\n",
    "\n",
    "import wrangle\n",
    "from env import get_db_url\n",
    "\n",
    "import pydataset\n",
    "import sklearn\n",
    "from sklearn.neighbors import KNeighborsClassifier\n",
    "from sklearn.preprocessing import MinMaxScaler, StandardScaler, RobustScaler"
   ]
  },
  {
   "cell_type": "code",
   "execution_count": 2,
   "id": "b004f6d0",
   "metadata": {},
   "outputs": [],
   "source": [
    "df = wrangle.wrangle_zillow()"
   ]
  },
  {
   "cell_type": "code",
   "execution_count": 3,
   "id": "dfc5f5bb",
   "metadata": {},
   "outputs": [
    {
     "data": {
      "text/html": [
       "<div>\n",
       "<style scoped>\n",
       "    .dataframe tbody tr th:only-of-type {\n",
       "        vertical-align: middle;\n",
       "    }\n",
       "\n",
       "    .dataframe tbody tr th {\n",
       "        vertical-align: top;\n",
       "    }\n",
       "\n",
       "    .dataframe thead th {\n",
       "        text-align: right;\n",
       "    }\n",
       "</style>\n",
       "<table border=\"1\" class=\"dataframe\">\n",
       "  <thead>\n",
       "    <tr style=\"text-align: right;\">\n",
       "      <th></th>\n",
       "      <th>bedroomcnt</th>\n",
       "      <th>bathroomcnt</th>\n",
       "      <th>calculatedfinishedsquarefeet</th>\n",
       "      <th>taxvaluedollarcnt</th>\n",
       "      <th>yearbuilt</th>\n",
       "      <th>taxamount</th>\n",
       "      <th>fips</th>\n",
       "    </tr>\n",
       "  </thead>\n",
       "  <tbody>\n",
       "    <tr>\n",
       "      <th>4</th>\n",
       "      <td>4.0</td>\n",
       "      <td>2.0</td>\n",
       "      <td>3633.0</td>\n",
       "      <td>296425.0</td>\n",
       "      <td>2005.0</td>\n",
       "      <td>6941.39</td>\n",
       "      <td>6037.0</td>\n",
       "    </tr>\n",
       "    <tr>\n",
       "      <th>6</th>\n",
       "      <td>3.0</td>\n",
       "      <td>4.0</td>\n",
       "      <td>1620.0</td>\n",
       "      <td>847770.0</td>\n",
       "      <td>2011.0</td>\n",
       "      <td>10244.94</td>\n",
       "      <td>6037.0</td>\n",
       "    </tr>\n",
       "    <tr>\n",
       "      <th>7</th>\n",
       "      <td>3.0</td>\n",
       "      <td>2.0</td>\n",
       "      <td>2077.0</td>\n",
       "      <td>646760.0</td>\n",
       "      <td>1926.0</td>\n",
       "      <td>7924.68</td>\n",
       "      <td>6037.0</td>\n",
       "    </tr>\n",
       "    <tr>\n",
       "      <th>11</th>\n",
       "      <td>0.0</td>\n",
       "      <td>0.0</td>\n",
       "      <td>1200.0</td>\n",
       "      <td>5328.0</td>\n",
       "      <td>1972.0</td>\n",
       "      <td>91.60</td>\n",
       "      <td>6037.0</td>\n",
       "    </tr>\n",
       "    <tr>\n",
       "      <th>14</th>\n",
       "      <td>0.0</td>\n",
       "      <td>0.0</td>\n",
       "      <td>171.0</td>\n",
       "      <td>6920.0</td>\n",
       "      <td>1973.0</td>\n",
       "      <td>255.17</td>\n",
       "      <td>6037.0</td>\n",
       "    </tr>\n",
       "  </tbody>\n",
       "</table>\n",
       "</div>"
      ],
      "text/plain": [
       "    bedroomcnt  bathroomcnt  calculatedfinishedsquarefeet  taxvaluedollarcnt  \\\n",
       "4          4.0          2.0                        3633.0           296425.0   \n",
       "6          3.0          4.0                        1620.0           847770.0   \n",
       "7          3.0          2.0                        2077.0           646760.0   \n",
       "11         0.0          0.0                        1200.0             5328.0   \n",
       "14         0.0          0.0                         171.0             6920.0   \n",
       "\n",
       "    yearbuilt  taxamount    fips  \n",
       "4      2005.0    6941.39  6037.0  \n",
       "6      2011.0   10244.94  6037.0  \n",
       "7      1926.0    7924.68  6037.0  \n",
       "11     1972.0      91.60  6037.0  \n",
       "14     1973.0     255.17  6037.0  "
      ]
     },
     "execution_count": 3,
     "metadata": {},
     "output_type": "execute_result"
    }
   ],
   "source": [
    "df.head()"
   ]
  },
  {
   "cell_type": "code",
   "execution_count": 4,
   "id": "54a392eb",
   "metadata": {},
   "outputs": [],
   "source": [
    "df = df.drop(['bathroomcnt', 'bedroomcnt'], axis = 1)"
   ]
  },
  {
   "cell_type": "code",
   "execution_count": 5,
   "id": "15f0b3e9",
   "metadata": {},
   "outputs": [
    {
     "data": {
      "text/html": [
       "<div>\n",
       "<style scoped>\n",
       "    .dataframe tbody tr th:only-of-type {\n",
       "        vertical-align: middle;\n",
       "    }\n",
       "\n",
       "    .dataframe tbody tr th {\n",
       "        vertical-align: top;\n",
       "    }\n",
       "\n",
       "    .dataframe thead th {\n",
       "        text-align: right;\n",
       "    }\n",
       "</style>\n",
       "<table border=\"1\" class=\"dataframe\">\n",
       "  <thead>\n",
       "    <tr style=\"text-align: right;\">\n",
       "      <th></th>\n",
       "      <th>calculatedfinishedsquarefeet</th>\n",
       "      <th>taxvaluedollarcnt</th>\n",
       "      <th>yearbuilt</th>\n",
       "      <th>taxamount</th>\n",
       "      <th>fips</th>\n",
       "    </tr>\n",
       "  </thead>\n",
       "  <tbody>\n",
       "    <tr>\n",
       "      <th>4</th>\n",
       "      <td>3633.0</td>\n",
       "      <td>296425.0</td>\n",
       "      <td>2005.0</td>\n",
       "      <td>6941.39</td>\n",
       "      <td>6037.0</td>\n",
       "    </tr>\n",
       "    <tr>\n",
       "      <th>6</th>\n",
       "      <td>1620.0</td>\n",
       "      <td>847770.0</td>\n",
       "      <td>2011.0</td>\n",
       "      <td>10244.94</td>\n",
       "      <td>6037.0</td>\n",
       "    </tr>\n",
       "    <tr>\n",
       "      <th>7</th>\n",
       "      <td>2077.0</td>\n",
       "      <td>646760.0</td>\n",
       "      <td>1926.0</td>\n",
       "      <td>7924.68</td>\n",
       "      <td>6037.0</td>\n",
       "    </tr>\n",
       "    <tr>\n",
       "      <th>11</th>\n",
       "      <td>1200.0</td>\n",
       "      <td>5328.0</td>\n",
       "      <td>1972.0</td>\n",
       "      <td>91.60</td>\n",
       "      <td>6037.0</td>\n",
       "    </tr>\n",
       "    <tr>\n",
       "      <th>14</th>\n",
       "      <td>171.0</td>\n",
       "      <td>6920.0</td>\n",
       "      <td>1973.0</td>\n",
       "      <td>255.17</td>\n",
       "      <td>6037.0</td>\n",
       "    </tr>\n",
       "  </tbody>\n",
       "</table>\n",
       "</div>"
      ],
      "text/plain": [
       "    calculatedfinishedsquarefeet  taxvaluedollarcnt  yearbuilt  taxamount  \\\n",
       "4                         3633.0           296425.0     2005.0    6941.39   \n",
       "6                         1620.0           847770.0     2011.0   10244.94   \n",
       "7                         2077.0           646760.0     1926.0    7924.68   \n",
       "11                        1200.0             5328.0     1972.0      91.60   \n",
       "14                         171.0             6920.0     1973.0     255.17   \n",
       "\n",
       "      fips  \n",
       "4   6037.0  \n",
       "6   6037.0  \n",
       "7   6037.0  \n",
       "11  6037.0  \n",
       "14  6037.0  "
      ]
     },
     "execution_count": 5,
     "metadata": {},
     "output_type": "execute_result"
    }
   ],
   "source": [
    "df.head()"
   ]
  },
  {
   "cell_type": "code",
   "execution_count": 6,
   "id": "cdc3d281",
   "metadata": {},
   "outputs": [],
   "source": [
    "# data splitting\n",
    "train, test = train_test_split(df, test_size=.2, random_state=198)\n"
   ]
  },
  {
   "cell_type": "code",
   "execution_count": 7,
   "id": "f64c0739",
   "metadata": {},
   "outputs": [
    {
     "data": {
      "text/plain": [
       "(1712188, 5)"
      ]
     },
     "execution_count": 7,
     "metadata": {},
     "output_type": "execute_result"
    }
   ],
   "source": [
    "train.shape"
   ]
  },
  {
   "cell_type": "code",
   "execution_count": 8,
   "id": "5a26620b",
   "metadata": {},
   "outputs": [
    {
     "data": {
      "text/plain": [
       "(428047, 5)"
      ]
     },
     "execution_count": 8,
     "metadata": {},
     "output_type": "execute_result"
    }
   ],
   "source": [
    "test.shape"
   ]
  },
  {
   "cell_type": "markdown",
   "id": "b811fb3e",
   "metadata": {},
   "source": [
    "### visualizations of un-scaled"
   ]
  },
  {
   "cell_type": "code",
   "execution_count": 9,
   "id": "1a55596d",
   "metadata": {},
   "outputs": [
    {
     "data": {
      "text/plain": [
       "<AxesSubplot:ylabel='Frequency'>"
      ]
     },
     "execution_count": 9,
     "metadata": {},
     "output_type": "execute_result"
    },
    {
     "data": {
      "image/png": "[encoded data removed]",
      "text/plain": [
       "<Figure size 432x288 with 1 Axes>"
      ]
     },
     "metadata": {
      "needs_background": "light"
     },
     "output_type": "display_data"
    }
   ],
   "source": [
    "train.plot.hist()"
   ]
  },
  {
   "cell_type": "code",
   "execution_count": 10,
   "id": "bd28c2d8",
   "metadata": {},
   "outputs": [
    {
     "data": {
      "text/plain": [
       "<AxesSubplot:ylabel='Frequency'>"
      ]
     },
     "execution_count": 10,
     "metadata": {},
     "output_type": "execute_result"
    },
    {
     "data": {
      "image/png": "[encoded data removed]",
      "text/plain": [
       "<Figure size 432x288 with 1 Axes>"
      ]
     },
     "metadata": {
      "needs_background": "light"
     },
     "output_type": "display_data"
    }
   ],
   "source": [
    "train.plot.hist(column=[\"calculatedfinishedsquarefeet\"])"
   ]
  },
  {
   "cell_type": "code",
   "execution_count": 11,
   "id": "9031d336",
   "metadata": {},
   "outputs": [],
   "source": [
    "train_scaled = train.copy()"
   ]
  },
  {
   "cell_type": "code",
   "execution_count": 12,
   "id": "820cab9e",
   "metadata": {},
   "outputs": [
    {
     "data": {
      "text/html": [
       "<div>\n",
       "<style scoped>\n",
       "    .dataframe tbody tr th:only-of-type {\n",
       "        vertical-align: middle;\n",
       "    }\n",
       "\n",
       "    .dataframe tbody tr th {\n",
       "        vertical-align: top;\n",
       "    }\n",
       "\n",
       "    .dataframe thead th {\n",
       "        text-align: right;\n",
       "    }\n",
       "</style>\n",
       "<table border=\"1\" class=\"dataframe\">\n",
       "  <thead>\n",
       "    <tr style=\"text-align: right;\">\n",
       "      <th></th>\n",
       "      <th>calculatedfinishedsquarefeet</th>\n",
       "      <th>taxvaluedollarcnt</th>\n",
       "      <th>yearbuilt</th>\n",
       "      <th>taxamount</th>\n",
       "      <th>fips</th>\n",
       "    </tr>\n",
       "  </thead>\n",
       "  <tbody>\n",
       "    <tr>\n",
       "      <th>1383522</th>\n",
       "      <td>1350.0</td>\n",
       "      <td>218743.0</td>\n",
       "      <td>1951.0</td>\n",
       "      <td>2723.20</td>\n",
       "      <td>6037.0</td>\n",
       "    </tr>\n",
       "    <tr>\n",
       "      <th>1899587</th>\n",
       "      <td>1376.0</td>\n",
       "      <td>319263.0</td>\n",
       "      <td>1930.0</td>\n",
       "      <td>4483.15</td>\n",
       "      <td>6037.0</td>\n",
       "    </tr>\n",
       "    <tr>\n",
       "      <th>962988</th>\n",
       "      <td>2425.0</td>\n",
       "      <td>645590.0</td>\n",
       "      <td>1954.0</td>\n",
       "      <td>9217.95</td>\n",
       "      <td>6037.0</td>\n",
       "    </tr>\n",
       "    <tr>\n",
       "      <th>778760</th>\n",
       "      <td>1124.0</td>\n",
       "      <td>204306.0</td>\n",
       "      <td>1931.0</td>\n",
       "      <td>2613.04</td>\n",
       "      <td>6037.0</td>\n",
       "    </tr>\n",
       "    <tr>\n",
       "      <th>128405</th>\n",
       "      <td>1695.0</td>\n",
       "      <td>524415.0</td>\n",
       "      <td>1986.0</td>\n",
       "      <td>6329.36</td>\n",
       "      <td>6059.0</td>\n",
       "    </tr>\n",
       "  </tbody>\n",
       "</table>\n",
       "</div>"
      ],
      "text/plain": [
       "         calculatedfinishedsquarefeet  taxvaluedollarcnt  yearbuilt  \\\n",
       "1383522                        1350.0           218743.0     1951.0   \n",
       "1899587                        1376.0           319263.0     1930.0   \n",
       "962988                         2425.0           645590.0     1954.0   \n",
       "778760                         1124.0           204306.0     1931.0   \n",
       "128405                         1695.0           524415.0     1986.0   \n",
       "\n",
       "         taxamount    fips  \n",
       "1383522    2723.20  6037.0  \n",
       "1899587    4483.15  6037.0  \n",
       "962988     9217.95  6037.0  \n",
       "778760     2613.04  6037.0  \n",
       "128405     6329.36  6059.0  "
      ]
     },
     "execution_count": 12,
     "metadata": {},
     "output_type": "execute_result"
    }
   ],
   "source": [
    "train_scaled.head()"
   ]
  },
  {
   "cell_type": "code",
   "execution_count": 13,
   "id": "2c437b21",
   "metadata": {},
   "outputs": [
    {
     "data": {
      "text/plain": [
       "(1712188, 5)"
      ]
     },
     "execution_count": 13,
     "metadata": {},
     "output_type": "execute_result"
    }
   ],
   "source": [
    "train_scaled.shape"
   ]
  },
  {
   "cell_type": "markdown",
   "id": "fb1e493e",
   "metadata": {},
   "source": [
    "#  1. visual comparisons scaled vs. unscaled"
   ]
  },
  {
   "cell_type": "markdown",
   "id": "3469d566",
   "metadata": {},
   "source": [
    "#### Min-Max"
   ]
  },
  {
   "cell_type": "code",
   "execution_count": 14,
   "id": "d71113a3",
   "metadata": {},
   "outputs": [],
   "source": [
    "train_scaled_MM = train_scaled.copy()"
   ]
  },
  {
   "cell_type": "code",
   "execution_count": 15,
   "id": "c2d99a09",
   "metadata": {},
   "outputs": [],
   "source": [
    "cols = ['calculatedfinishedsquarefeet', 'yearbuilt', 'taxamount']\n",
    "scaler_MM = MinMaxScaler()\n",
    "train_scaled_MM[cols]=scaler_MM.fit_transform(train_scaled_MM[cols])"
   ]
  },
  {
   "cell_type": "code",
   "execution_count": 16,
   "id": "db9ea40c",
   "metadata": {},
   "outputs": [
    {
     "data": {
      "text/html": [
       "<div>\n",
       "<style scoped>\n",
       "    .dataframe tbody tr th:only-of-type {\n",
       "        vertical-align: middle;\n",
       "    }\n",
       "\n",
       "    .dataframe tbody tr th {\n",
       "        vertical-align: top;\n",
       "    }\n",
       "\n",
       "    .dataframe thead th {\n",
       "        text-align: right;\n",
       "    }\n",
       "</style>\n",
       "<table border=\"1\" class=\"dataframe\">\n",
       "  <thead>\n",
       "    <tr style=\"text-align: right;\">\n",
       "      <th></th>\n",
       "      <th>calculatedfinishedsquarefeet</th>\n",
       "      <th>taxvaluedollarcnt</th>\n",
       "      <th>yearbuilt</th>\n",
       "      <th>taxamount</th>\n",
       "      <th>fips</th>\n",
       "    </tr>\n",
       "  </thead>\n",
       "  <tbody>\n",
       "    <tr>\n",
       "      <th>1383522</th>\n",
       "      <td>0.001416</td>\n",
       "      <td>218743.0</td>\n",
       "      <td>0.697674</td>\n",
       "      <td>0.002582</td>\n",
       "      <td>6037.0</td>\n",
       "    </tr>\n",
       "    <tr>\n",
       "      <th>1899587</th>\n",
       "      <td>0.001443</td>\n",
       "      <td>319263.0</td>\n",
       "      <td>0.600000</td>\n",
       "      <td>0.004255</td>\n",
       "      <td>6037.0</td>\n",
       "    </tr>\n",
       "    <tr>\n",
       "      <th>962988</th>\n",
       "      <td>0.002545</td>\n",
       "      <td>645590.0</td>\n",
       "      <td>0.711628</td>\n",
       "      <td>0.008756</td>\n",
       "      <td>6037.0</td>\n",
       "    </tr>\n",
       "    <tr>\n",
       "      <th>778760</th>\n",
       "      <td>0.001179</td>\n",
       "      <td>204306.0</td>\n",
       "      <td>0.604651</td>\n",
       "      <td>0.002478</td>\n",
       "      <td>6037.0</td>\n",
       "    </tr>\n",
       "    <tr>\n",
       "      <th>128405</th>\n",
       "      <td>0.001778</td>\n",
       "      <td>524415.0</td>\n",
       "      <td>0.860465</td>\n",
       "      <td>0.006010</td>\n",
       "      <td>6059.0</td>\n",
       "    </tr>\n",
       "  </tbody>\n",
       "</table>\n",
       "</div>"
      ],
      "text/plain": [
       "         calculatedfinishedsquarefeet  taxvaluedollarcnt  yearbuilt  \\\n",
       "1383522                      0.001416           218743.0   0.697674   \n",
       "1899587                      0.001443           319263.0   0.600000   \n",
       "962988                       0.002545           645590.0   0.711628   \n",
       "778760                       0.001179           204306.0   0.604651   \n",
       "128405                       0.001778           524415.0   0.860465   \n",
       "\n",
       "         taxamount    fips  \n",
       "1383522   0.002582  6037.0  \n",
       "1899587   0.004255  6037.0  \n",
       "962988    0.008756  6037.0  \n",
       "778760    0.002478  6037.0  \n",
       "128405    0.006010  6059.0  "
      ]
     },
     "execution_count": 16,
     "metadata": {},
     "output_type": "execute_result"
    }
   ],
   "source": [
    "train_scaled_MM.head()"
   ]
  },
  {
   "cell_type": "code",
   "execution_count": 17,
   "id": "3fb3bec3",
   "metadata": {},
   "outputs": [
    {
     "data": {
      "text/html": [
       "<div>\n",
       "<style scoped>\n",
       "    .dataframe tbody tr th:only-of-type {\n",
       "        vertical-align: middle;\n",
       "    }\n",
       "\n",
       "    .dataframe tbody tr th {\n",
       "        vertical-align: top;\n",
       "    }\n",
       "\n",
       "    .dataframe thead th {\n",
       "        text-align: right;\n",
       "    }\n",
       "</style>\n",
       "<table border=\"1\" class=\"dataframe\">\n",
       "  <thead>\n",
       "    <tr style=\"text-align: right;\">\n",
       "      <th></th>\n",
       "      <th>calculatedfinishedsquarefeet</th>\n",
       "      <th>taxvaluedollarcnt</th>\n",
       "      <th>yearbuilt</th>\n",
       "      <th>taxamount</th>\n",
       "      <th>fips</th>\n",
       "    </tr>\n",
       "  </thead>\n",
       "  <tbody>\n",
       "    <tr>\n",
       "      <th>1383522</th>\n",
       "      <td>1350.0</td>\n",
       "      <td>218743.0</td>\n",
       "      <td>1951.0</td>\n",
       "      <td>2723.20</td>\n",
       "      <td>6037.0</td>\n",
       "    </tr>\n",
       "    <tr>\n",
       "      <th>1899587</th>\n",
       "      <td>1376.0</td>\n",
       "      <td>319263.0</td>\n",
       "      <td>1930.0</td>\n",
       "      <td>4483.15</td>\n",
       "      <td>6037.0</td>\n",
       "    </tr>\n",
       "    <tr>\n",
       "      <th>962988</th>\n",
       "      <td>2425.0</td>\n",
       "      <td>645590.0</td>\n",
       "      <td>1954.0</td>\n",
       "      <td>9217.95</td>\n",
       "      <td>6037.0</td>\n",
       "    </tr>\n",
       "    <tr>\n",
       "      <th>778760</th>\n",
       "      <td>1124.0</td>\n",
       "      <td>204306.0</td>\n",
       "      <td>1931.0</td>\n",
       "      <td>2613.04</td>\n",
       "      <td>6037.0</td>\n",
       "    </tr>\n",
       "    <tr>\n",
       "      <th>128405</th>\n",
       "      <td>1695.0</td>\n",
       "      <td>524415.0</td>\n",
       "      <td>1986.0</td>\n",
       "      <td>6329.36</td>\n",
       "      <td>6059.0</td>\n",
       "    </tr>\n",
       "  </tbody>\n",
       "</table>\n",
       "</div>"
      ],
      "text/plain": [
       "         calculatedfinishedsquarefeet  taxvaluedollarcnt  yearbuilt  \\\n",
       "1383522                        1350.0           218743.0     1951.0   \n",
       "1899587                        1376.0           319263.0     1930.0   \n",
       "962988                         2425.0           645590.0     1954.0   \n",
       "778760                         1124.0           204306.0     1931.0   \n",
       "128405                         1695.0           524415.0     1986.0   \n",
       "\n",
       "         taxamount    fips  \n",
       "1383522    2723.20  6037.0  \n",
       "1899587    4483.15  6037.0  \n",
       "962988     9217.95  6037.0  \n",
       "778760     2613.04  6037.0  \n",
       "128405     6329.36  6059.0  "
      ]
     },
     "execution_count": 17,
     "metadata": {},
     "output_type": "execute_result"
    }
   ],
   "source": [
    "train.head()"
   ]
  },
  {
   "cell_type": "code",
   "execution_count": 18,
   "id": "1240a63f",
   "metadata": {},
   "outputs": [
    {
     "data": {
      "text/plain": [
       "(array([1.712187e+06, 0.000000e+00, 0.000000e+00, 0.000000e+00,\n",
       "        0.000000e+00, 0.000000e+00, 0.000000e+00, 0.000000e+00,\n",
       "        0.000000e+00, 1.000000e+00]),\n",
       " array([1.000000e+00, 9.525850e+04, 1.905160e+05, 2.857735e+05,\n",
       "        3.810310e+05, 4.762885e+05, 5.715460e+05, 6.668035e+05,\n",
       "        7.620610e+05, 8.573185e+05, 9.525760e+05]),\n",
       " <BarContainer object of 10 artists>)"
      ]
     },
     "execution_count": 18,
     "metadata": {},
     "output_type": "execute_result"
    },
    {
     "data": {
      "image/png": "[encoded data removed]",
      "text/plain": [
       "<Figure size 432x288 with 1 Axes>"
      ]
     },
     "metadata": {
      "needs_background": "light"
     },
     "output_type": "display_data"
    }
   ],
   "source": [
    "plt.hist(train.calculatedfinishedsquarefeet)"
   ]
  },
  {
   "cell_type": "code",
   "execution_count": 19,
   "id": "1f6201f5",
   "metadata": {},
   "outputs": [
    {
     "data": {
      "text/plain": [
       "(array([1.712187e+06, 0.000000e+00, 0.000000e+00, 0.000000e+00,\n",
       "        0.000000e+00, 0.000000e+00, 0.000000e+00, 0.000000e+00,\n",
       "        0.000000e+00, 1.000000e+00]),\n",
       " array([0. , 0.1, 0.2, 0.3, 0.4, 0.5, 0.6, 0.7, 0.8, 0.9, 1. ]),\n",
       " <BarContainer object of 10 artists>)"
      ]
     },
     "execution_count": 19,
     "metadata": {},
     "output_type": "execute_result"
    },
    {
     "data": {
      "image/png": "[encoded data removed]",
      "text/plain": [
       "<Figure size 432x288 with 1 Axes>"
      ]
     },
     "metadata": {
      "needs_background": "light"
     },
     "output_type": "display_data"
    }
   ],
   "source": [
    "plt.hist(train_scaled_MM.calculatedfinishedsquarefeet)"
   ]
  },
  {
   "cell_type": "code",
   "execution_count": 20,
   "id": "bfc7e544",
   "metadata": {},
   "outputs": [
    {
     "data": {
      "text/plain": [
       "Text(0.5, 1.0, 'Scaled')"
      ]
     },
     "execution_count": 20,
     "metadata": {},
     "output_type": "execute_result"
    },
    {
     "data": {
      "image/png": "[encoded data removed]",
      "text/plain": [
       "<Figure size 936x432 with 2 Axes>"
      ]
     },
     "metadata": {
      "needs_background": "light"
     },
     "output_type": "display_data"
    }
   ],
   "source": [
    "plt.figure(figsize=(13, 6))\n",
    "plt.subplot(121)\n",
    "plt.hist(train.calculatedfinishedsquarefeet, bins=25, ec='black')\n",
    "plt.title('Original')\n",
    "plt.subplot(122)\n",
    "plt.hist(train_scaled_MM.calculatedfinishedsquarefeet, bins=25, ec='black')\n",
    "plt.title('Scaled')"
   ]
  },
  {
   "cell_type": "code",
   "execution_count": 21,
   "id": "6a032986",
   "metadata": {},
   "outputs": [
    {
     "data": {
      "text/plain": [
       "Text(0.5, 1.0, 'Scaled')"
      ]
     },
     "execution_count": 21,
     "metadata": {},
     "output_type": "execute_result"
    },
    {
     "data": {
      "image/png": "[encoded data removed]",
      "text/plain": [
       "<Figure size 936x432 with 2 Axes>"
      ]
     },
     "metadata": {
      "needs_background": "light"
     },
     "output_type": "display_data"
    }
   ],
   "source": [
    "plt.figure(figsize=(13, 6))\n",
    "plt.subplot(121)\n",
    "plt.hist(train.yearbuilt, bins=25, ec='black')\n",
    "plt.title('Original')\n",
    "plt.subplot(122)\n",
    "plt.hist(train_scaled_MM.yearbuilt, bins=25, ec='black')\n",
    "plt.title('Scaled')"
   ]
  },
  {
   "cell_type": "code",
   "execution_count": 22,
   "id": "a834f3de",
   "metadata": {
    "scrolled": true
   },
   "outputs": [
    {
     "data": {
      "text/plain": [
       "Text(0.5, 1.0, 'Scaled')"
      ]
     },
     "execution_count": 22,
     "metadata": {},
     "output_type": "execute_result"
    },
    {
     "data": {
      "image/png": "[encoded data removed]",
      "text/plain": [
       "<Figure size 936x432 with 2 Axes>"
      ]
     },
     "metadata": {
      "needs_background": "light"
     },
     "output_type": "display_data"
    }
   ],
   "source": [
    "plt.figure(figsize=(13, 6))\n",
    "plt.subplot(121)\n",
    "plt.hist(train.taxamount, bins=25, ec='black')\n",
    "plt.title('Original')\n",
    "plt.subplot(122)\n",
    "plt.hist(train_scaled_MM.taxamount, bins=25, ec='black')\n",
    "plt.title('Scaled')"
   ]
  },
  {
   "cell_type": "markdown",
   "id": "07ace9b8",
   "metadata": {},
   "source": [
    "### scaler = sklearn.preprocessing.StandardScaler()\n"
   ]
  },
  {
   "cell_type": "code",
   "execution_count": 23,
   "id": "25b7276a",
   "metadata": {},
   "outputs": [],
   "source": [
    "train_scaled_standard = train_scaled.copy()"
   ]
  },
  {
   "cell_type": "code",
   "execution_count": 24,
   "id": "9fef6ae2",
   "metadata": {},
   "outputs": [],
   "source": [
    "scaler_standard = sklearn.preprocessing.StandardScaler()"
   ]
  },
  {
   "cell_type": "code",
   "execution_count": 25,
   "id": "e263afbc",
   "metadata": {},
   "outputs": [],
   "source": [
    "train_scaled_standard[cols]=scaler_standard.fit_transform(train_scaled_standard[cols])"
   ]
  },
  {
   "cell_type": "code",
   "execution_count": 26,
   "id": "b9ca3cbf",
   "metadata": {},
   "outputs": [
    {
     "data": {
      "text/html": [
       "<div>\n",
       "<style scoped>\n",
       "    .dataframe tbody tr th:only-of-type {\n",
       "        vertical-align: middle;\n",
       "    }\n",
       "\n",
       "    .dataframe tbody tr th {\n",
       "        vertical-align: top;\n",
       "    }\n",
       "\n",
       "    .dataframe thead th {\n",
       "        text-align: right;\n",
       "    }\n",
       "</style>\n",
       "<table border=\"1\" class=\"dataframe\">\n",
       "  <thead>\n",
       "    <tr style=\"text-align: right;\">\n",
       "      <th></th>\n",
       "      <th>calculatedfinishedsquarefeet</th>\n",
       "      <th>taxvaluedollarcnt</th>\n",
       "      <th>yearbuilt</th>\n",
       "      <th>taxamount</th>\n",
       "      <th>fips</th>\n",
       "    </tr>\n",
       "  </thead>\n",
       "  <tbody>\n",
       "    <tr>\n",
       "      <th>1383522</th>\n",
       "      <td>-0.423643</td>\n",
       "      <td>218743.0</td>\n",
       "      <td>-0.450326</td>\n",
       "      <td>-0.372688</td>\n",
       "      <td>6037.0</td>\n",
       "    </tr>\n",
       "    <tr>\n",
       "      <th>1899587</th>\n",
       "      <td>-0.402199</td>\n",
       "      <td>319263.0</td>\n",
       "      <td>-1.398165</td>\n",
       "      <td>-0.145997</td>\n",
       "      <td>6037.0</td>\n",
       "    </tr>\n",
       "    <tr>\n",
       "      <th>962988</th>\n",
       "      <td>0.463001</td>\n",
       "      <td>645590.0</td>\n",
       "      <td>-0.314920</td>\n",
       "      <td>0.463870</td>\n",
       "      <td>6037.0</td>\n",
       "    </tr>\n",
       "    <tr>\n",
       "      <th>778760</th>\n",
       "      <td>-0.610045</td>\n",
       "      <td>204306.0</td>\n",
       "      <td>-1.353030</td>\n",
       "      <td>-0.386877</td>\n",
       "      <td>6037.0</td>\n",
       "    </tr>\n",
       "    <tr>\n",
       "      <th>128405</th>\n",
       "      <td>-0.139092</td>\n",
       "      <td>524415.0</td>\n",
       "      <td>1.129405</td>\n",
       "      <td>0.091805</td>\n",
       "      <td>6059.0</td>\n",
       "    </tr>\n",
       "  </tbody>\n",
       "</table>\n",
       "</div>"
      ],
      "text/plain": [
       "         calculatedfinishedsquarefeet  taxvaluedollarcnt  yearbuilt  \\\n",
       "1383522                     -0.423643           218743.0  -0.450326   \n",
       "1899587                     -0.402199           319263.0  -1.398165   \n",
       "962988                       0.463001           645590.0  -0.314920   \n",
       "778760                      -0.610045           204306.0  -1.353030   \n",
       "128405                      -0.139092           524415.0   1.129405   \n",
       "\n",
       "         taxamount    fips  \n",
       "1383522  -0.372688  6037.0  \n",
       "1899587  -0.145997  6037.0  \n",
       "962988    0.463870  6037.0  \n",
       "778760   -0.386877  6037.0  \n",
       "128405    0.091805  6059.0  "
      ]
     },
     "execution_count": 26,
     "metadata": {},
     "output_type": "execute_result"
    }
   ],
   "source": [
    "train_scaled_standard.head()"
   ]
  },
  {
   "cell_type": "code",
   "execution_count": 27,
   "id": "5d0d3cd6",
   "metadata": {},
   "outputs": [
    {
     "data": {
      "text/plain": [
       "Text(0.5, 1.0, 'Scaled')"
      ]
     },
     "execution_count": 27,
     "metadata": {},
     "output_type": "execute_result"
    },
    {
     "data": {
      "image/png": "[encoded data removed]",
      "text/plain": [
       "<Figure size 936x432 with 2 Axes>"
      ]
     },
     "metadata": {
      "needs_background": "light"
     },
     "output_type": "display_data"
    }
   ],
   "source": [
    "plt.figure(figsize=(13, 6))\n",
    "plt.subplot(121)\n",
    "plt.hist(train, bins=25, ec='black')\n",
    "plt.title('Original')\n",
    "plt.subplot(122)\n",
    "plt.hist(train_scaled_standard, bins=25, ec='black')\n",
    "plt.title('Scaled')"
   ]
  },
  {
   "cell_type": "code",
   "execution_count": 28,
   "id": "4b389607",
   "metadata": {},
   "outputs": [
    {
     "data": {
      "text/plain": [
       "Text(0.5, 1.0, 'Scaled')"
      ]
     },
     "execution_count": 28,
     "metadata": {},
     "output_type": "execute_result"
    },
    {
     "data": {
      "image/png": "[encoded data removed]",
      "text/plain": [
       "<Figure size 936x432 with 2 Axes>"
      ]
     },
     "metadata": {
      "needs_background": "light"
     },
     "output_type": "display_data"
    }
   ],
   "source": [
    "plt.figure(figsize=(13, 6))\n",
    "plt.subplot(121)\n",
    "plt.hist(train.calculatedfinishedsquarefeet, bins=25, ec='black')\n",
    "plt.title('Original')\n",
    "plt.subplot(122)\n",
    "plt.hist(train_scaled_standard.calculatedfinishedsquarefeet, bins=25, ec='black')\n",
    "plt.title('Scaled')"
   ]
  },
  {
   "cell_type": "code",
   "execution_count": 29,
   "id": "2a82ea12",
   "metadata": {},
   "outputs": [
    {
     "data": {
      "text/plain": [
       "Text(0.5, 1.0, 'Scaled')"
      ]
     },
     "execution_count": 29,
     "metadata": {},
     "output_type": "execute_result"
    },
    {
     "data": {
      "image/png": "[encoded data removed]",
      "text/plain": [
       "<Figure size 936x432 with 2 Axes>"
      ]
     },
     "metadata": {
      "needs_background": "light"
     },
     "output_type": "display_data"
    }
   ],
   "source": [
    "plt.figure(figsize=(13, 6))\n",
    "plt.subplot(121)\n",
    "plt.hist(train.yearbuilt, bins=25, ec='black')\n",
    "plt.title('Original')\n",
    "plt.subplot(122)\n",
    "plt.hist(train_scaled_standard.yearbuilt, bins=25, ec='black')\n",
    "plt.title('Scaled')"
   ]
  },
  {
   "cell_type": "code",
   "execution_count": 30,
   "id": "6f0b4881",
   "metadata": {},
   "outputs": [
    {
     "data": {
      "text/plain": [
       "Text(0.5, 1.0, 'Scaled')"
      ]
     },
     "execution_count": 30,
     "metadata": {},
     "output_type": "execute_result"
    },
    {
     "data": {
      "image/png": "[encoded data removed]",
      "text/plain": [
       "<Figure size 936x432 with 2 Axes>"
      ]
     },
     "metadata": {
      "needs_background": "light"
     },
     "output_type": "display_data"
    }
   ],
   "source": [
    "plt.figure(figsize=(13, 6))\n",
    "plt.subplot(121)\n",
    "plt.hist(train.taxamount, bins=25, ec='black')\n",
    "plt.title('Original')\n",
    "plt.subplot(122)\n",
    "plt.hist(train_scaled_standard.taxamount, bins=25, ec='black')\n",
    "plt.title('Scaled')"
   ]
  },
  {
   "cell_type": "markdown",
   "id": "44bb9b1b",
   "metadata": {},
   "source": [
    "### scaler = robust"
   ]
  },
  {
   "cell_type": "code",
   "execution_count": 31,
   "id": "edd966d9",
   "metadata": {},
   "outputs": [],
   "source": [
    "train_scaled_robust = train_scaled.copy()"
   ]
  },
  {
   "cell_type": "code",
   "execution_count": 32,
   "id": "9a76325f",
   "metadata": {},
   "outputs": [],
   "source": [
    "scaler_robust = sklearn.preprocessing.RobustScaler()"
   ]
  },
  {
   "cell_type": "code",
   "execution_count": 33,
   "id": "7482a45f",
   "metadata": {},
   "outputs": [],
   "source": [
    "train_scaled_robust[cols]=scaler_robust.fit_transform(train_scaled_robust[cols])"
   ]
  },
  {
   "cell_type": "code",
   "execution_count": 34,
   "id": "04c10798",
   "metadata": {},
   "outputs": [
    {
     "data": {
      "text/html": [
       "<div>\n",
       "<style scoped>\n",
       "    .dataframe tbody tr th:only-of-type {\n",
       "        vertical-align: middle;\n",
       "    }\n",
       "\n",
       "    .dataframe tbody tr th {\n",
       "        vertical-align: top;\n",
       "    }\n",
       "\n",
       "    .dataframe thead th {\n",
       "        text-align: right;\n",
       "    }\n",
       "</style>\n",
       "<table border=\"1\" class=\"dataframe\">\n",
       "  <thead>\n",
       "    <tr style=\"text-align: right;\">\n",
       "      <th></th>\n",
       "      <th>calculatedfinishedsquarefeet</th>\n",
       "      <th>taxvaluedollarcnt</th>\n",
       "      <th>yearbuilt</th>\n",
       "      <th>taxamount</th>\n",
       "      <th>fips</th>\n",
       "    </tr>\n",
       "  </thead>\n",
       "  <tbody>\n",
       "    <tr>\n",
       "      <th>1383522</th>\n",
       "      <td>-0.288118</td>\n",
       "      <td>218743.0</td>\n",
       "      <td>-0.259259</td>\n",
       "      <td>-0.358645</td>\n",
       "      <td>6037.0</td>\n",
       "    </tr>\n",
       "    <tr>\n",
       "      <th>1899587</th>\n",
       "      <td>-0.260778</td>\n",
       "      <td>319263.0</td>\n",
       "      <td>-1.037037</td>\n",
       "      <td>0.095710</td>\n",
       "      <td>6037.0</td>\n",
       "    </tr>\n",
       "    <tr>\n",
       "      <th>962988</th>\n",
       "      <td>0.842271</td>\n",
       "      <td>645590.0</td>\n",
       "      <td>-0.148148</td>\n",
       "      <td>1.318063</td>\n",
       "      <td>6037.0</td>\n",
       "    </tr>\n",
       "    <tr>\n",
       "      <th>778760</th>\n",
       "      <td>-0.525762</td>\n",
       "      <td>204306.0</td>\n",
       "      <td>-1.000000</td>\n",
       "      <td>-0.387084</td>\n",
       "      <td>6037.0</td>\n",
       "    </tr>\n",
       "    <tr>\n",
       "      <th>128405</th>\n",
       "      <td>0.074658</td>\n",
       "      <td>524415.0</td>\n",
       "      <td>1.037037</td>\n",
       "      <td>0.572335</td>\n",
       "      <td>6059.0</td>\n",
       "    </tr>\n",
       "  </tbody>\n",
       "</table>\n",
       "</div>"
      ],
      "text/plain": [
       "         calculatedfinishedsquarefeet  taxvaluedollarcnt  yearbuilt  \\\n",
       "1383522                     -0.288118           218743.0  -0.259259   \n",
       "1899587                     -0.260778           319263.0  -1.037037   \n",
       "962988                       0.842271           645590.0  -0.148148   \n",
       "778760                      -0.525762           204306.0  -1.000000   \n",
       "128405                       0.074658           524415.0   1.037037   \n",
       "\n",
       "         taxamount    fips  \n",
       "1383522  -0.358645  6037.0  \n",
       "1899587   0.095710  6037.0  \n",
       "962988    1.318063  6037.0  \n",
       "778760   -0.387084  6037.0  \n",
       "128405    0.572335  6059.0  "
      ]
     },
     "execution_count": 34,
     "metadata": {},
     "output_type": "execute_result"
    }
   ],
   "source": [
    "train_scaled_robust.head()"
   ]
  },
  {
   "cell_type": "code",
   "execution_count": 35,
   "id": "513648c3",
   "metadata": {},
   "outputs": [
    {
     "data": {
      "text/plain": [
       "Text(0.5, 1.0, 'Scaled')"
      ]
     },
     "execution_count": 35,
     "metadata": {},
     "output_type": "execute_result"
    },
    {
     "data": {
      "image/png": "[encoded data removed]",
      "text/plain": [
       "<Figure size 936x432 with 2 Axes>"
      ]
     },
     "metadata": {
      "needs_background": "light"
     },
     "output_type": "display_data"
    }
   ],
   "source": [
    "plt.figure(figsize=(13, 6))\n",
    "plt.subplot(121)\n",
    "plt.hist(train, bins=25, ec='black')\n",
    "plt.title('Original')\n",
    "plt.subplot(122)\n",
    "plt.hist(train_scaled_robust, bins=25, ec='black')\n",
    "plt.title('Scaled')"
   ]
  },
  {
   "cell_type": "code",
   "execution_count": 36,
   "id": "f743fe9f",
   "metadata": {},
   "outputs": [
    {
     "data": {
      "text/plain": [
       "Text(0.5, 1.0, 'Scaled')"
      ]
     },
     "execution_count": 36,
     "metadata": {},
     "output_type": "execute_result"
    },
    {
     "data": {
      "image/png": "[encoded data removed]",
      "text/plain": [
       "<Figure size 936x432 with 2 Axes>"
      ]
     },
     "metadata": {
      "needs_background": "light"
     },
     "output_type": "display_data"
    }
   ],
   "source": [
    "plt.figure(figsize=(13, 6))\n",
    "plt.subplot(121)\n",
    "plt.hist(train.calculatedfinishedsquarefeet, bins=25, ec='black')\n",
    "plt.title('Original')\n",
    "plt.subplot(122)\n",
    "plt.hist(train_scaled_robust.calculatedfinishedsquarefeet, bins=25, ec='black')\n",
    "plt.title('Scaled')"
   ]
  },
  {
   "cell_type": "code",
   "execution_count": 37,
   "id": "2f8acc1d",
   "metadata": {},
   "outputs": [
    {
     "data": {
      "text/plain": [
       "Text(0.5, 1.0, 'Scaled')"
      ]
     },
     "execution_count": 37,
     "metadata": {},
     "output_type": "execute_result"
    },
    {
     "data": {
      "image/png": "[encoded data removed]",
      "text/plain": [
       "<Figure size 936x432 with 2 Axes>"
      ]
     },
     "metadata": {
      "needs_background": "light"
     },
     "output_type": "display_data"
    }
   ],
   "source": [
    "plt.figure(figsize=(13, 6))\n",
    "plt.subplot(121)\n",
    "plt.hist(train.yearbuilt, bins=25, ec='black')\n",
    "plt.title('Original')\n",
    "plt.subplot(122)\n",
    "plt.hist(train_scaled_robust.yearbuilt, bins=25, ec='black')\n",
    "plt.title('Scaled')"
   ]
  },
  {
   "cell_type": "code",
   "execution_count": 38,
   "id": "54b9f748",
   "metadata": {},
   "outputs": [
    {
     "data": {
      "text/plain": [
       "Text(0.5, 1.0, 'Scaled')"
      ]
     },
     "execution_count": 38,
     "metadata": {},
     "output_type": "execute_result"
    },
    {
     "data": {
      "image/png": "[encoded data removed]",
      "text/plain": [
       "<Figure size 936x432 with 2 Axes>"
      ]
     },
     "metadata": {
      "needs_background": "light"
     },
     "output_type": "display_data"
    }
   ],
   "source": [
    "plt.figure(figsize=(13, 6))\n",
    "plt.subplot(121)\n",
    "plt.hist(train.taxamount, bins=25, ec='black')\n",
    "plt.title('Original')\n",
    "plt.subplot(122)\n",
    "plt.hist(train_scaled_robust.taxamount, bins=25, ec='black')\n",
    "plt.title('Scaled')"
   ]
  },
  {
   "cell_type": "markdown",
   "id": "e355c8f3",
   "metadata": {},
   "source": [
    "## other means of visualizations"
   ]
  },
  {
   "cell_type": "code",
   "execution_count": 39,
   "id": "4a4443e8",
   "metadata": {},
   "outputs": [
    {
     "data": {
      "text/plain": [
       "<AxesSubplot:xlabel='yearbuilt'>"
      ]
     },
     "execution_count": 39,
     "metadata": {},
     "output_type": "execute_result"
    },
    {
     "data": {
      "image/png": "[encoded data removed]",
      "text/plain": [
       "<Figure size 792x432 with 1 Axes>"
      ]
     },
     "metadata": {
      "needs_background": "light"
     },
     "output_type": "display_data"
    }
   ],
   "source": [
    "\n",
    "df[['calculatedfinishedsquarefeet', 'yearbuilt', 'taxamount']].groupby('yearbuilt').mean().plot.bar(figsize=(11, 6), ec='black', width=.95)\n",
    "\n"
   ]
  },
  {
   "cell_type": "markdown",
   "id": "2942d446",
   "metadata": {},
   "source": [
    "# Apply the .inverse_transform method to your scaled data. Is the resulting dataset the exact same as the original data?\n"
   ]
  },
  {
   "cell_type": "markdown",
   "id": "88697f7f",
   "metadata": {},
   "source": [
    "#### inverse for robust"
   ]
  },
  {
   "cell_type": "code",
   "execution_count": 40,
   "id": "ccf13d73",
   "metadata": {},
   "outputs": [
    {
     "data": {
      "text/html": [
       "<div>\n",
       "<style scoped>\n",
       "    .dataframe tbody tr th:only-of-type {\n",
       "        vertical-align: middle;\n",
       "    }\n",
       "\n",
       "    .dataframe tbody tr th {\n",
       "        vertical-align: top;\n",
       "    }\n",
       "\n",
       "    .dataframe thead th {\n",
       "        text-align: right;\n",
       "    }\n",
       "</style>\n",
       "<table border=\"1\" class=\"dataframe\">\n",
       "  <thead>\n",
       "    <tr style=\"text-align: right;\">\n",
       "      <th></th>\n",
       "      <th>calculatedfinishedsquarefeet</th>\n",
       "      <th>taxvaluedollarcnt</th>\n",
       "      <th>yearbuilt</th>\n",
       "      <th>taxamount</th>\n",
       "      <th>fips</th>\n",
       "    </tr>\n",
       "  </thead>\n",
       "  <tbody>\n",
       "    <tr>\n",
       "      <th>1383522</th>\n",
       "      <td>-0.288118</td>\n",
       "      <td>218743.0</td>\n",
       "      <td>-0.259259</td>\n",
       "      <td>-0.358645</td>\n",
       "      <td>6037.0</td>\n",
       "    </tr>\n",
       "    <tr>\n",
       "      <th>1899587</th>\n",
       "      <td>-0.260778</td>\n",
       "      <td>319263.0</td>\n",
       "      <td>-1.037037</td>\n",
       "      <td>0.095710</td>\n",
       "      <td>6037.0</td>\n",
       "    </tr>\n",
       "    <tr>\n",
       "      <th>962988</th>\n",
       "      <td>0.842271</td>\n",
       "      <td>645590.0</td>\n",
       "      <td>-0.148148</td>\n",
       "      <td>1.318063</td>\n",
       "      <td>6037.0</td>\n",
       "    </tr>\n",
       "    <tr>\n",
       "      <th>778760</th>\n",
       "      <td>-0.525762</td>\n",
       "      <td>204306.0</td>\n",
       "      <td>-1.000000</td>\n",
       "      <td>-0.387084</td>\n",
       "      <td>6037.0</td>\n",
       "    </tr>\n",
       "    <tr>\n",
       "      <th>128405</th>\n",
       "      <td>0.074658</td>\n",
       "      <td>524415.0</td>\n",
       "      <td>1.037037</td>\n",
       "      <td>0.572335</td>\n",
       "      <td>6059.0</td>\n",
       "    </tr>\n",
       "  </tbody>\n",
       "</table>\n",
       "</div>"
      ],
      "text/plain": [
       "         calculatedfinishedsquarefeet  taxvaluedollarcnt  yearbuilt  \\\n",
       "1383522                     -0.288118           218743.0  -0.259259   \n",
       "1899587                     -0.260778           319263.0  -1.037037   \n",
       "962988                       0.842271           645590.0  -0.148148   \n",
       "778760                      -0.525762           204306.0  -1.000000   \n",
       "128405                       0.074658           524415.0   1.037037   \n",
       "\n",
       "         taxamount    fips  \n",
       "1383522  -0.358645  6037.0  \n",
       "1899587   0.095710  6037.0  \n",
       "962988    1.318063  6037.0  \n",
       "778760   -0.387084  6037.0  \n",
       "128405    0.572335  6059.0  "
      ]
     },
     "execution_count": 40,
     "metadata": {},
     "output_type": "execute_result"
    }
   ],
   "source": [
    "train_scaled_robust.head()"
   ]
  },
  {
   "cell_type": "code",
   "execution_count": 41,
   "id": "d54d9d76",
   "metadata": {},
   "outputs": [
    {
     "ename": "AttributeError",
     "evalue": "'DataFrame' object has no attribute 'scaler_robust'",
     "output_type": "error",
     "traceback": [
      "\u001b[0;31m---------------------------------------------------------------------------\u001b[0m",
      "\u001b[0;31mAttributeError\u001b[0m                            Traceback (most recent call last)",
      "Input \u001b[0;32mIn [41]\u001b[0m, in \u001b[0;36m<cell line: 1>\u001b[0;34m()\u001b[0m\n\u001b[0;32m----> 1\u001b[0m train_scaled_robust_inverse \u001b[38;5;241m=\u001b[39m \u001b[43mtrain_scaled_robust\u001b[49m\u001b[38;5;241;43m.\u001b[39;49m\u001b[43mscaler_robust\u001b[49m\u001b[38;5;241m.\u001b[39minverse_transform(train_scaled_robust)\n",
      "File \u001b[0;32m/opt/homebrew/anaconda3/lib/python3.9/site-packages/pandas/core/generic.py:5575\u001b[0m, in \u001b[0;36mNDFrame.__getattr__\u001b[0;34m(self, name)\u001b[0m\n\u001b[1;32m   5568\u001b[0m \u001b[38;5;28;01mif\u001b[39;00m (\n\u001b[1;32m   5569\u001b[0m     name \u001b[38;5;129;01mnot\u001b[39;00m \u001b[38;5;129;01min\u001b[39;00m \u001b[38;5;28mself\u001b[39m\u001b[38;5;241m.\u001b[39m_internal_names_set\n\u001b[1;32m   5570\u001b[0m     \u001b[38;5;129;01mand\u001b[39;00m name \u001b[38;5;129;01mnot\u001b[39;00m \u001b[38;5;129;01min\u001b[39;00m \u001b[38;5;28mself\u001b[39m\u001b[38;5;241m.\u001b[39m_metadata\n\u001b[1;32m   5571\u001b[0m     \u001b[38;5;129;01mand\u001b[39;00m name \u001b[38;5;129;01mnot\u001b[39;00m \u001b[38;5;129;01min\u001b[39;00m \u001b[38;5;28mself\u001b[39m\u001b[38;5;241m.\u001b[39m_accessors\n\u001b[1;32m   5572\u001b[0m     \u001b[38;5;129;01mand\u001b[39;00m \u001b[38;5;28mself\u001b[39m\u001b[38;5;241m.\u001b[39m_info_axis\u001b[38;5;241m.\u001b[39m_can_hold_identifiers_and_holds_name(name)\n\u001b[1;32m   5573\u001b[0m ):\n\u001b[1;32m   5574\u001b[0m     \u001b[38;5;28;01mreturn\u001b[39;00m \u001b[38;5;28mself\u001b[39m[name]\n\u001b[0;32m-> 5575\u001b[0m \u001b[38;5;28;01mreturn\u001b[39;00m \u001b[38;5;28;43mobject\u001b[39;49m\u001b[38;5;241;43m.\u001b[39;49m\u001b[38;5;21;43m__getattribute__\u001b[39;49m\u001b[43m(\u001b[49m\u001b[38;5;28;43mself\u001b[39;49m\u001b[43m,\u001b[49m\u001b[43m \u001b[49m\u001b[43mname\u001b[49m\u001b[43m)\u001b[49m\n",
      "\u001b[0;31mAttributeError\u001b[0m: 'DataFrame' object has no attribute 'scaler_robust'"
     ]
    }
   ],
   "source": [
    "train_scaled_robust_inverse = train_scaled_robust.scaler_robust.inverse_transform(train_scaled_robust)"
   ]
  },
  {
   "cell_type": "code",
   "execution_count": null,
   "id": "701925b4",
   "metadata": {},
   "outputs": [],
   "source": [
    "scaler_robust"
   ]
  },
  {
   "cell_type": "code",
   "execution_count": null,
   "id": "9a6a0465",
   "metadata": {},
   "outputs": [],
   "source": [
    "train_scaled_robust.head()"
   ]
  },
  {
   "cell_type": "code",
   "execution_count": null,
   "id": "eff16632",
   "metadata": {},
   "outputs": [],
   "source": [
    "scaler_robust.inverse_transform(scaled_robust_sqft)"
   ]
  },
  {
   "cell_type": "code",
   "execution_count": null,
   "id": "80602659",
   "metadata": {},
   "outputs": [],
   "source": [
    "scaled_robust_sqft = train_scaled_robust[['calculatedfinishedsquarefeet']]"
   ]
  },
  {
   "cell_type": "code",
   "execution_count": null,
   "id": "333baf0c",
   "metadata": {},
   "outputs": [],
   "source": []
  },
  {
   "cell_type": "code",
   "execution_count": null,
   "id": "a6d01ac4",
   "metadata": {},
   "outputs": [],
   "source": []
  },
  {
   "cell_type": "markdown",
   "id": "b84cdbde",
   "metadata": {},
   "source": [
    "#### inverse for minmax"
   ]
  },
  {
   "cell_type": "code",
   "execution_count": null,
   "id": "55edbed7",
   "metadata": {},
   "outputs": [],
   "source": []
  }
 ],
 "metadata": {
  "kernelspec": {
   "display_name": "Python 3 (ipykernel)",
   "language": "python",
   "name": "python3"
  },
  "language_info": {
   "codemirror_mode": {
    "name": "ipython",
    "version": 3
   },
   "file_extension": ".py",
   "mimetype": "text/x-python",
   "name": "python",
   "nbconvert_exporter": "python",
   "pygments_lexer": "ipython3",
   "version": "3.9.12"
  }
 },
 "nbformat": 4,
 "nbformat_minor": 5
}
